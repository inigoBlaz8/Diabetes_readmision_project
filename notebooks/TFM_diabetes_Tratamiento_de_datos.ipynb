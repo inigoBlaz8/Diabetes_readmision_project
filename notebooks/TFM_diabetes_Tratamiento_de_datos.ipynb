{
  "nbformat": 4,
  "nbformat_minor": 0,
  "metadata": {
    "colab": {
      "name": "TFM_diabetes_Tratamiento_de_datos.ipynb",
      "provenance": [],
      "collapsed_sections": [
        "jAMLQpBB6Wxe",
        "iAN8-JnL7u_5",
        "vlrr314Uolfi",
        "9fVGH5m8weIq",
        "aANpwUlqyiCD",
        "4t-mUP3i5E0o",
        "5UmTQGYuzMmY",
        "S978GoOkobw1",
        "aajP5kACE3WF"
      ]
    },
    "kernelspec": {
      "name": "python3",
      "display_name": "Python 3"
    },
    "language_info": {
      "name": "python"
    },
    "accelerator": "GPU"
  },
  "cells": [
    {
      "cell_type": "code",
      "metadata": {
        "colab": {
          "base_uri": "https://localhost:8080/"
        },
        "id": "bW_6Jurd2rNE",
        "outputId": "6ad6aba3-f836-4822-9329-858aa0e8e8af"
      },
      "source": [
        "from google.colab import drive\n",
        "drive.mount(\"/content/gdrive\")\n",
        "import pandas as pd\n",
        "import matplotlib.pyplot as plt\n",
        "import numpy as np\n",
        "\n"
      ],
      "execution_count": null,
      "outputs": [
        {
          "output_type": "stream",
          "name": "stdout",
          "text": [
            "Drive already mounted at /content/gdrive; to attempt to forcibly remount, call drive.mount(\"/content/gdrive\", force_remount=True).\n"
          ]
        }
      ]
    },
    {
      "cell_type": "code",
      "metadata": {
        "id": "w3SAs-KwptF7"
      },
      "source": [
        "df = pd.read_csv(\"/content/gdrive/MyDrive/diabetic_data.csv\")"
      ],
      "execution_count": null,
      "outputs": []
    },
    {
      "cell_type": "code",
      "metadata": {
        "colab": {
          "base_uri": "https://localhost:8080/"
        },
        "id": "heQ-JA2kraw2",
        "outputId": "399eff9e-3b24-4f6c-f2fb-52b1c2f9e6b4"
      },
      "source": [
        "df.shape"
      ],
      "execution_count": null,
      "outputs": [
        {
          "output_type": "execute_result",
          "data": {
            "text/plain": [
              "(101766, 50)"
            ]
          },
          "metadata": {},
          "execution_count": 3
        }
      ]
    },
    {
      "cell_type": "markdown",
      "metadata": {
        "id": "Cmp_xvKF4oji"
      },
      "source": [
        "# 1- Seleccion de datos\n"
      ]
    },
    {
      "cell_type": "markdown",
      "metadata": {
        "id": "nCDx-vs8ruhG"
      },
      "source": [
        "## Borrar columnas que contienen unicamente una sola clase"
      ]
    },
    {
      "cell_type": "code",
      "metadata": {
        "colab": {
          "base_uri": "https://localhost:8080/"
        },
        "id": "4VN7fdiDruIS",
        "outputId": "538c41fc-4e69-4918-ba29-838a5959421f"
      },
      "source": [
        "for col in df.columns:\n",
        "  if(len(df[col].value_counts())==1):\n",
        "    print(\"Columna \",col,\"eliminada.\")\n",
        "    del df[col]\n"
      ],
      "execution_count": null,
      "outputs": [
        {
          "output_type": "stream",
          "name": "stdout",
          "text": [
            "Columna  examide eliminada.\n",
            "Columna  citoglipton eliminada.\n"
          ]
        }
      ]
    },
    {
      "cell_type": "markdown",
      "metadata": {
        "id": "GIgF9QbSFj7w"
      },
      "source": [
        "## Se borran las columnas weight y payer code"
      ]
    },
    {
      "cell_type": "code",
      "metadata": {
        "id": "BRP1s5xu6Fco"
      },
      "source": [
        " del df[\"weight\"]\n",
        " del df[\"payer_code\"]"
      ],
      "execution_count": null,
      "outputs": []
    },
    {
      "cell_type": "markdown",
      "metadata": {
        "id": "AVk00Yfb5JiM"
      },
      "source": [
        "##Borrar columnas en las que aparece en mas de 95% de registros una misma clase"
      ]
    },
    {
      "cell_type": "markdown",
      "metadata": {
        "id": "axXYUc8Bixca"
      },
      "source": [
        "Se puede ver que todas las columnas son las relacionadas con el cambio de medicinas"
      ]
    },
    {
      "cell_type": "code",
      "metadata": {
        "colab": {
          "base_uri": "https://localhost:8080/"
        },
        "id": "jlF5fK0Ufw1p",
        "outputId": "89a900b3-9076-4c69-e84b-a577ea12cc9f"
      },
      "source": [
        "categorical_columns = df.select_dtypes(include=[object]).columns\n",
        "drop_mayority95_cols=[]\n",
        "for col in categorical_columns:\n",
        "  v_count=df[col].value_counts()\n",
        "  porcentaje=100*v_count[0]/(v_count[0]+v_count[1])\n",
        "  if(porcentaje>95):\n",
        "    drop_mayority95_cols.append(col)\n",
        "\n",
        "print(drop_mayority95_cols)"
      ],
      "execution_count": null,
      "outputs": [
        {
          "output_type": "stream",
          "name": "stdout",
          "text": [
            "['max_glu_serum', 'repaglinide', 'nateglinide', 'chlorpropamide', 'glimepiride', 'acetohexamide', 'tolbutamide', 'acarbose', 'miglitol', 'troglitazone', 'tolazamide', 'glyburide-metformin', 'glipizide-metformin', 'glimepiride-pioglitazone', 'metformin-rosiglitazone', 'metformin-pioglitazone']\n"
          ]
        }
      ]
    },
    {
      "cell_type": "markdown",
      "metadata": {
        "id": "p00M20TFjEeC"
      },
      "source": [
        "Se define una funcion para que elimine todos las columnas en las que aparece en mas de 95% de registros una misma clase"
      ]
    },
    {
      "cell_type": "code",
      "metadata": {
        "id": "e0Xq2so2qKlQ"
      },
      "source": [
        "def borrar_columnas(df):\n",
        "  df=df.drop(columns=drop_mayority95_cols)\n",
        "  return df"
      ],
      "execution_count": null,
      "outputs": []
    },
    {
      "cell_type": "markdown",
      "metadata": {
        "id": "DFXOFWqFHNQh"
      },
      "source": [
        "## Se borran encounter ID y patient number porque estos atributos no afectan en los reingresos."
      ]
    },
    {
      "cell_type": "code",
      "metadata": {
        "id": "ITzFixXFHMEz"
      },
      "source": [
        "df=df.drop(['encounter_id','patient_nbr'], axis=1)"
      ],
      "execution_count": null,
      "outputs": []
    },
    {
      "cell_type": "markdown",
      "metadata": {
        "id": "jAMLQpBB6Wxe"
      },
      "source": [
        "# 2-Limpieza de datos"
      ]
    },
    {
      "cell_type": "markdown",
      "metadata": {
        "id": "1X84KkRvqwGr"
      },
      "source": [
        "##Valores faltantes"
      ]
    },
    {
      "cell_type": "code",
      "metadata": {
        "colab": {
          "base_uri": "https://localhost:8080/"
        },
        "id": "671Np9MO68ns",
        "outputId": "bf54c699-4d7e-4390-fafb-9939066b0fb8"
      },
      "source": [
        "NanColumns=df.columns[(df == '?').mean()>0]\n",
        "for col in NanColumns:\n",
        "  a= df[col].value_counts()\n",
        "  for e in range(0,len(a)):\n",
        "    if(a.index[e]==\"?\"):\n",
        "      print(col,a.index[e],a[e])"
      ],
      "execution_count": null,
      "outputs": [
        {
          "output_type": "stream",
          "name": "stdout",
          "text": [
            "race ? 2273\n",
            "medical_specialty ? 49949\n",
            "diag_1 ? 21\n",
            "diag_2 ? 358\n",
            "diag_3 ? 1423\n"
          ]
        }
      ]
    },
    {
      "cell_type": "markdown",
      "metadata": {
        "id": "-FOQEW7PEkIU"
      },
      "source": [
        "Rellenar los valores faltantes de la columna race y los valores unknown de gender con la moda "
      ]
    },
    {
      "cell_type": "code",
      "metadata": {
        "id": "8uMmlE0WEjzX"
      },
      "source": [
        "df[\"gender\"]=df[\"gender\"].replace(['Unknown/Invalid'], df[\"gender\"].mode()[0])\n",
        "df[\"race\"]=df[\"race\"].replace(['?'], df[\"race\"].mode()[0])"
      ],
      "execution_count": null,
      "outputs": []
    },
    {
      "cell_type": "markdown",
      "metadata": {
        "id": "Gq3xPQvb8O9s"
      },
      "source": [
        "Borramos los registros que tienen tres diagnosticos faltantes"
      ]
    },
    {
      "cell_type": "code",
      "metadata": {
        "id": "MdmqQM5R2UVA"
      },
      "source": [
        "df= df.drop(df[(df[\"diag_1\"]==\"?\") & (df[\"diag_2\"]==\"?\")  & (df[\"diag_3\"]==\"?\")].index)"
      ],
      "execution_count": null,
      "outputs": []
    },
    {
      "cell_type": "markdown",
      "metadata": {
        "id": "mGuptiAhtID6"
      },
      "source": [
        "En los demas reemplazar ? con unknown para que sea mas comprensivo"
      ]
    },
    {
      "cell_type": "code",
      "metadata": {
        "id": "CrSmc8mNtHX4",
        "colab": {
          "base_uri": "https://localhost:8080/"
        },
        "outputId": "72f37081-b6b4-418a-fc2d-ffec659ceab8"
      },
      "source": [
        "NanColumns=df.columns[(df == '?').mean()>0]\n",
        "for col in NanColumns:\n",
        "  print(\"Los valores faltantes de la columna\",col,\"han sido rellenados con Unknown\")\n",
        "  df[col]=df[col].replace(['?'], \"Unknown\")"
      ],
      "execution_count": null,
      "outputs": [
        {
          "output_type": "stream",
          "name": "stdout",
          "text": [
            "Los valores faltantes de la columna medical_specialty han sido rellenados con Unknown\n",
            "Los valores faltantes de la columna diag_1 han sido rellenados con Unknown\n",
            "Los valores faltantes de la columna diag_2 han sido rellenados con Unknown\n",
            "Los valores faltantes de la columna diag_3 han sido rellenados con Unknown\n"
          ]
        }
      ]
    },
    {
      "cell_type": "markdown",
      "metadata": {
        "id": "J-vS_ggG8h73"
      },
      "source": [
        "## Borrar encuentros que han acabado en Hospice o ha fallecido el paciente"
      ]
    },
    {
      "cell_type": "code",
      "metadata": {
        "id": "UbaAZ_WHlvhS"
      },
      "source": [
        "#alta a hospice\n",
        "df = df.loc[~df.discharge_disposition_id.isin([13,14,19,20,21])]\n",
        "#muerte del paciente\n",
        "df=df.loc[(df['discharge_disposition_id'] != 11)]"
      ],
      "execution_count": null,
      "outputs": []
    },
    {
      "cell_type": "markdown",
      "metadata": {
        "id": "iAN8-JnL7u_5"
      },
      "source": [
        "# 3- Construcción de datos"
      ]
    },
    {
      "cell_type": "markdown",
      "metadata": {
        "id": "oNchGPyi7y0q"
      },
      "source": [
        "### Construccion columna numero de visitas a centros hospitalarios\n",
        "\n",
        "\n"
      ]
    },
    {
      "cell_type": "code",
      "metadata": {
        "id": "vVD0O5bxu13w"
      },
      "source": [
        "df[\"number_hospital\"]=df[\"number_emergency\"]+df[\"number_inpatient\"]+df[\"number_outpatient\"]\n"
      ],
      "execution_count": null,
      "outputs": []
    },
    {
      "cell_type": "markdown",
      "metadata": {
        "id": "2Q4VWrqdzjn4"
      },
      "source": [
        "### Construccion de columna número de procedimientos totales"
      ]
    },
    {
      "cell_type": "code",
      "metadata": {
        "id": "fu6xlIjgzoWn"
      },
      "source": [
        "df[\"total_procedures\"]=df[\"num_lab_procedures\"]+df[\"num_procedures\"]"
      ],
      "execution_count": null,
      "outputs": []
    },
    {
      "cell_type": "markdown",
      "metadata": {
        "id": "vlrr314Uolfi"
      },
      "source": [
        "###Contruccion de columna numero de cambios de medicinas"
      ]
    },
    {
      "cell_type": "code",
      "metadata": {
        "id": "XdKG6Gs17ydo"
      },
      "source": [
        "medications_change=[\"repaglinide\",\"nateglinide\",\"chlorpropamide\",\"glimepiride\",\"acetohexamide\",\"tolbutamide\",\"acarbose\",\"miglitol\",\"tolazamide\", \"glyburide-metformin\",\"glipizide-metformin\",\"glimepiride-pioglitazone\",\"metformin-rosiglitazone\",\"metformin-pioglitazone\",\"troglitazone\",\"insulin\",\"pioglitazone\",\"metformin\",\"glipizide\",\"glyburide\",\"rosiglitazone\"] "
      ],
      "execution_count": null,
      "outputs": []
    },
    {
      "cell_type": "code",
      "metadata": {
        "id": "SKjRbt7MiZ0h"
      },
      "source": [
        "dosis_changes= [0]*df.shape[0]\n",
        "for col in medications_change:\n",
        "  num=0\n",
        "  for val in df[col]:\n",
        "    if val==\"Up\" or val==\"Down\":\n",
        "      dosis_changes[num]= dosis_changes[num]+1\n",
        "    num+=1\n",
        "df[\"dosis_changes\"]=dosis_changes"
      ],
      "execution_count": null,
      "outputs": []
    },
    {
      "cell_type": "code",
      "metadata": {
        "colab": {
          "base_uri": "https://localhost:8080/"
        },
        "id": "CzngleFgiZ5t",
        "outputId": "d9f97c50-c18b-4d99-8373-7066c863a497"
      },
      "source": [
        "df[\"dosis_changes\"].value_counts()"
      ],
      "execution_count": null,
      "outputs": [
        {
          "output_type": "execute_result",
          "data": {
            "text/plain": [
              "0    72323\n",
              "1    25609\n",
              "2     1299\n",
              "3      107\n",
              "4        5\n",
              "Name: dosis_changes, dtype: int64"
            ]
          },
          "metadata": {},
          "execution_count": 18
        }
      ]
    },
    {
      "cell_type": "markdown",
      "metadata": {
        "id": "9fVGH5m8weIq"
      },
      "source": [
        "### Construccion de columna numero de medicinas que toma\n"
      ]
    },
    {
      "cell_type": "code",
      "metadata": {
        "id": "nyeNj7puwjzi"
      },
      "source": [
        "num_medicines= [0]*df.shape[0]\n",
        "for col in medications_change:\n",
        "  num=0\n",
        "  for val in df[col]:\n",
        "    if val!=\"No\":\n",
        "      num_medicines[num]= num_medicines[num]+1\n",
        "    num+=1\n",
        "df[\"num_medicines\"]=num_medicines"
      ],
      "execution_count": null,
      "outputs": []
    },
    {
      "cell_type": "code",
      "metadata": {
        "colab": {
          "base_uri": "https://localhost:8080/"
        },
        "id": "Un369wNBwswP",
        "outputId": "74a6b9c0-bc61-4302-f8f3-6c5c26f0e0ae"
      },
      "source": [
        "df[\"num_medicines\"].value_counts()"
      ],
      "execution_count": null,
      "outputs": [
        {
          "output_type": "execute_result",
          "data": {
            "text/plain": [
              "1    46030\n",
              "0    22624\n",
              "2    21595\n",
              "3     7707\n",
              "4     1324\n",
              "5       58\n",
              "6        5\n",
              "Name: num_medicines, dtype: int64"
            ]
          },
          "metadata": {},
          "execution_count": 20
        }
      ]
    },
    {
      "cell_type": "markdown",
      "metadata": {
        "id": "aANpwUlqyiCD"
      },
      "source": [
        "### Construción de columna que indica si se aumento o disminuyo la dosis de los medicamientos"
      ]
    },
    {
      "cell_type": "code",
      "metadata": {
        "id": "xwI224uWyhI2"
      },
      "source": [
        "dosis_plus_minus= [0]*df.shape[0]\n",
        "for col in medications_change:\n",
        "  num=0\n",
        "  for val in df[col]:\n",
        "    if val==\"Up\":\n",
        "      dosis_plus_minus[num]= dosis_plus_minus[num]+1\n",
        "    if val==\"Down\":\n",
        "      dosis_plus_minus[num] = dosis_plus_minus[num]-1\n",
        "    num+=1\n",
        "df[\"dosis_plus_minus\"]=dosis_plus_minus"
      ],
      "execution_count": null,
      "outputs": []
    },
    {
      "cell_type": "code",
      "metadata": {
        "colab": {
          "base_uri": "https://localhost:8080/"
        },
        "id": "s9Tq9vUdzL87",
        "outputId": "14b6b655-625d-4e35-ad44-c8f226ed44bf"
      },
      "source": [
        "df[\"dosis_plus_minus\"].value_counts()"
      ],
      "execution_count": null,
      "outputs": [
        {
          "output_type": "execute_result",
          "data": {
            "text/plain": [
              " 0    72890\n",
              "-1    12921\n",
              " 1    12760\n",
              " 2      501\n",
              "-2      236\n",
              " 3       30\n",
              "-3        5\n",
              "Name: dosis_plus_minus, dtype: int64"
            ]
          },
          "metadata": {},
          "execution_count": 22
        }
      ]
    },
    {
      "cell_type": "markdown",
      "metadata": {
        "id": "oDszXTHMmE5f"
      },
      "source": [
        "### Se borran las columnas correspondientes a cambios de medicamientos que contienen un mayor valor de 90% en los cambios de medicamentos"
      ]
    },
    {
      "cell_type": "code",
      "metadata": {
        "id": "mesFy7_lmCd7"
      },
      "source": [
        "df=borrar_columnas(df)"
      ],
      "execution_count": null,
      "outputs": []
    },
    {
      "cell_type": "markdown",
      "metadata": {
        "id": "-NNCy-tf7Vsg"
      },
      "source": [
        "# 4-Formateo de datos"
      ]
    },
    {
      "cell_type": "markdown",
      "metadata": {
        "id": "4t-mUP3i5E0o"
      },
      "source": [
        "## Tratamiento de los diagnosticos"
      ]
    },
    {
      "cell_type": "code",
      "metadata": {
        "id": "HxI5oND-Ty5k"
      },
      "source": [
        " def formatear_icd9(col): \n",
        "  lastList=[]\n",
        "  for i in range(0,len(col)):\n",
        "    val=col.iloc[i]\n",
        "    if(val[0].capitalize()==\"E\" or val[0].capitalize()==\"V\" ):\n",
        "      lastList.append(\"E–V\")\n",
        "    elif(val==\"Unknown\"):\n",
        "      lastList.append(\"Unknown\")\n",
        "      continue\n",
        "    else:\n",
        "      val=float(val)\n",
        "      if((val>=390 and val<460) or (val>=785 and val<786)):\n",
        "        val=\"Circulatory\"\n",
        "      elif((val>=460 and val<520) or (val>=786 and val<787)):\n",
        "        val=\"Respiratory\"\n",
        "      elif((val>=520 and val<580) or (val>=787 and val<788)):\n",
        "        val=\"Digestive\"\n",
        "      elif((val>=580 and val<630) or (val>=788 and val<789)):\n",
        "        val=\"Genitourinary\"\n",
        "      elif(val>=710 and val<740):\n",
        "        val=\"Musculoskeletal\"\n",
        "      elif(val>=800 and val<1000):\n",
        "        val=\"Injury\"\n",
        "      elif(val>=140 and val<240):\n",
        "        val=\"Neoplasm\"\n",
        "      elif(val>=250 and val<251):\n",
        "        val=\"Diabetes\"\n",
        "      elif((val>=780 and val<782)or (val>=784 and val<785)or (val>=790 and val<800)):\n",
        "        val=\"Other_symptoms\"\n",
        "      elif((val>=240 and val<250)or (val>=251 and val<280) or(val>=783 and val<784)):\n",
        "        val=\"nutritional\"\n",
        "      elif((val>=680 and val<710) or (val>=782 and val<783)):\n",
        "        val=\"skin\"\n",
        "      elif(val>=1 and val<140):\n",
        "        val=\"Infectious\"\n",
        "      elif(val>=290 and val<320):\n",
        "        val=\"Mental\"\n",
        "      elif(val>=280 and val<290):\n",
        "        val=\"blood\"\n",
        "      elif(val>=320 and val<360):\n",
        "        val=\"nervous_system\"\n",
        "      elif(val>=630 and val<680):\n",
        "        val=\"pregnancy\"\n",
        "      elif(val>=360 and val<390):\n",
        "        val=\"sense_organs\"\n",
        "      elif(val>=740 and val<760):\n",
        "        val=\"Congenital\"\n",
        "      elif (val>=789 and val<790):\n",
        "        val=\"pelvis_abdomen\"\n",
        "      else:\n",
        "        print(val,\"not included\")\n",
        "      lastList.append(val)\n",
        "  return np.array(lastList)"
      ],
      "execution_count": null,
      "outputs": []
    },
    {
      "cell_type": "code",
      "metadata": {
        "id": "CRAh_U8wu0WH"
      },
      "source": [
        "def formatear_minorias_icd9(col):\n",
        "\n",
        "  v_counts=col.value_counts()\n",
        "  a=sum(v_counts)\n",
        "  other_columns=[]\n",
        "  for i in range(0,len(v_counts)):\n",
        "    if((100*v_counts[i])/a<3):\n",
        "      other_columns.append(v_counts.index[i])\n",
        "\n",
        "  lastList=[]\n",
        "  for val in col:\n",
        "    if val in other_columns:\n",
        "      val=\"Other\"\n",
        "    lastList.append(val)\n",
        "  return lastList"
      ],
      "execution_count": null,
      "outputs": []
    },
    {
      "cell_type": "code",
      "metadata": {
        "id": "t6azldMR3IXT"
      },
      "source": [
        "df[\"diag_1\"] = formatear_icd9(df[\"diag_1\"])\n",
        "df[\"diag_1\"] = formatear_minorias_icd9(df[\"diag_1\"])\n",
        "df[\"diag_2\"] = formatear_icd9(df[\"diag_2\"]) \n",
        "df[\"diag_2\"] = formatear_minorias_icd9(df[\"diag_2\"]) \n",
        "df[\"diag_3\"] = formatear_icd9(df[\"diag_3\"])  \n",
        "df[\"diag_3\"] = formatear_minorias_icd9(df[\"diag_3\"])  "
      ],
      "execution_count": null,
      "outputs": []
    },
    {
      "cell_type": "markdown",
      "metadata": {
        "id": "bbGHYReE0cnT"
      },
      "source": [
        "Distribución de diag_1"
      ]
    },
    {
      "cell_type": "code",
      "metadata": {
        "colab": {
          "base_uri": "https://localhost:8080/"
        },
        "id": "gRIustfVcPrp",
        "outputId": "03b45d27-4f47-474b-ca10-01b701f0ebbe"
      },
      "source": [
        "v_c=df[\"diag_1\"].value_counts()\n",
        "for i in range(0,len(v_c)):\n",
        "  valor=\"{:.2f}\".format(v_c[i]*100/df.shape[0])\n",
        "  print(v_c.index[i],\":\",valor)"
      ],
      "execution_count": null,
      "outputs": [
        {
          "output_type": "stream",
          "name": "stdout",
          "text": [
            "Circulatory : 29.88\n",
            "Other : 17.93\n",
            "Respiratory : 14.03\n",
            "Digestive : 9.39\n",
            "Diabetes : 8.72\n",
            "Injury : 6.90\n",
            "Genitourinary : 5.04\n",
            "Musculoskeletal : 4.97\n",
            "Neoplasm : 3.15\n"
          ]
        }
      ]
    },
    {
      "cell_type": "markdown",
      "metadata": {
        "id": "_MfxIPoo0hA1"
      },
      "source": [
        "Distribución de diag_2"
      ]
    },
    {
      "cell_type": "code",
      "metadata": {
        "colab": {
          "base_uri": "https://localhost:8080/"
        },
        "id": "X-FMcMCf0XPE",
        "outputId": "8033263f-59ea-4356-b97a-c67422a0a59e"
      },
      "source": [
        "v_c=df[\"diag_2\"].value_counts()\n",
        "for i in range(0,len(v_c)):\n",
        "  valor=\"{:.2f}\".format(v_c[i]*100/df.shape[0])\n",
        "  print(v_c.index[i],\":\",valor)"
      ],
      "execution_count": null,
      "outputs": [
        {
          "output_type": "stream",
          "name": "stdout",
          "text": [
            "Circulatory : 31.36\n",
            "Other : 21.32\n",
            "Diabetes : 12.79\n",
            "Respiratory : 10.46\n",
            "Genitourinary : 8.20\n",
            "nutritional : 8.12\n",
            "Digestive : 4.12\n",
            "skin : 3.63\n"
          ]
        }
      ]
    },
    {
      "cell_type": "markdown",
      "metadata": {
        "id": "A0iCsrWm0hOd"
      },
      "source": [
        "Distribución de diag_2"
      ]
    },
    {
      "cell_type": "code",
      "metadata": {
        "colab": {
          "base_uri": "https://localhost:8080/"
        },
        "id": "nQ2fI2SC0XX1",
        "outputId": "4e7863e4-d3bb-44be-8fb3-59527bd74133"
      },
      "source": [
        "v_c=df[\"diag_3\"].value_counts()\n",
        "for i in range(0,len(v_c)):\n",
        "  valor=\"{:.2f}\".format(v_c[i]*100/df.shape[0])\n",
        "  print(v_c.index[i],\":\",valor)"
      ],
      "execution_count": null,
      "outputs": [
        {
          "output_type": "stream",
          "name": "stdout",
          "text": [
            "Circulatory : 29.80\n",
            "Other : 18.52\n",
            "Diabetes : 17.09\n",
            "nutritional : 9.01\n",
            "Respiratory : 7.05\n",
            "Genitourinary : 6.48\n",
            "E–V : 5.05\n",
            "Digestive : 3.88\n",
            "Mental : 3.12\n"
          ]
        }
      ]
    },
    {
      "cell_type": "markdown",
      "metadata": {
        "id": "5UmTQGYuzMmY"
      },
      "source": [
        "## Tratamiento de medical_specialty"
      ]
    },
    {
      "cell_type": "markdown",
      "metadata": {
        "id": "3Si2o7QtzMmZ"
      },
      "source": [
        "Se clasifican como other las clases que contienen menos de 80 etiquetas"
      ]
    },
    {
      "cell_type": "code",
      "metadata": {
        "colab": {
          "base_uri": "https://localhost:8080/"
        },
        "id": "KIGmQlWszMma",
        "outputId": "2f80b6e0-fae5-4bb6-ee9c-81e7a7e71144"
      },
      "source": [
        "v_count=df[\"medical_specialty\"].value_counts()\n",
        "for a in range(0,len(v_count)):\n",
        "  print(v_count.index[a],\" : \",v_count[a]*100/df.shape[0])\n",
        "    \n",
        "\n"
      ],
      "execution_count": null,
      "outputs": [
        {
          "output_type": "stream",
          "name": "stdout",
          "text": [
            "Unknown  :  48.937519503135604\n",
            "InternalMedicine  :  14.33115569290237\n",
            "Emergency/Trauma  :  7.468065188287046\n",
            "Family/GeneralPractice  :  7.299960742075435\n",
            "Cardiology  :  5.3139124044975485\n",
            "Surgery-General  :  3.079230544678538\n",
            "Nephrology  :  1.5491781001177738\n",
            "Orthopedics  :  1.401205922913542\n",
            "Orthopedics-Reconstructive  :  1.2381345439537763\n",
            "Radiologist  :  1.1284136778635636\n",
            "Pulmonology  :  0.859647886615061\n",
            "Psychiatry  :  0.8586412731646921\n",
            "Urology  :  0.686510373151606\n",
            "ObstetricsandGynecology  :  0.67342439829681\n",
            "Surgery-Cardiovascular/Thoracic  :  0.6462458351368491\n",
            "Gastroenterology  :  0.541558036298481\n",
            "Surgery-Vascular  :  0.528472061443685\n",
            "Surgery-Neuro  :  0.4650554140704428\n",
            "PhysicalMedicineandRehabilitation  :  0.3935858590942492\n",
            "Oncology  :  0.3211096906676867\n",
            "Pediatrics  :  0.25467320294333773\n",
            "Neurology  :  0.20232930352415368\n",
            "Hematology/Oncology  :  0.18823671521898874\n",
            "Pediatrics-Endocrinology  :  0.1600515386086589\n",
            "Otolaryngology  :  0.1258266812961155\n",
            "Endocrinology  :  0.11978700059390193\n",
            "Surgery-Thoracic  :  0.10871425263984377\n",
            "Psychology  :  0.1016679584872613\n",
            "Podiatry  :  0.10066134503689238\n",
            "Surgery-Cardiovascular  :  0.09864811813615454\n",
            "Pediatrics-CriticalCare  :  0.08757537018209638\n",
            "Hematology  :  0.0754960087776693\n",
            "Gynecology  :  0.058383580121397584\n",
            "Hospitalist  :  0.05737696667102866\n",
            "Radiology  :  0.05335051286955296\n",
            "Surgeon  :  0.04529760526660157\n",
            "Surgery-Plastic  :  0.040264538014756955\n",
            "Osteopath  :  0.0382513111140191\n",
            "Ophthalmology  :  0.0382513111140191\n",
            "InfectiousDiseases  :  0.037244697663650184\n",
            "SurgicalSpecialty  :  0.033218243862174486\n",
            "Obsterics&Gynecology-GynecologicOnco  :  0.025165336259223094\n",
            "Pediatrics-Pulmonology  :  0.025165336259223094\n",
            "Anesthesiology-Pediatric  :  0.01912565555700955\n",
            "Obstetrics  :  0.01912565555700955\n",
            "Rheumatology  :  0.017112428656271706\n",
            "Pathology  :  0.01610581520590278\n",
            "OutreachServices  :  0.012079361404427086\n",
            "Anesthesiology  :  0.012079361404427086\n",
            "Surgery-Colon&Rectal  :  0.011072747954058161\n",
            "PhysicianNotFound  :  0.010066134503689239\n",
            "Pediatrics-Neurology  :  0.010066134503689239\n",
            "Surgery-Maxillofacial  :  0.009059521053320314\n",
            "Endocrinology-Metabolism  :  0.00805290760295139\n",
            "Surgery-Pediatric  :  0.00805290760295139\n",
            "AllergyandImmunology  :  0.0070462941525824664\n",
            "Cardiology-Pediatric  :  0.0070462941525824664\n",
            "Psychiatry-Child/Adolescent  :  0.0070462941525824664\n",
            "DCPTEAM  :  0.005033067251844619\n",
            "Pediatrics-Hematology-Oncology  :  0.004026453801475695\n",
            "Dentistry  :  0.004026453801475695\n",
            "Pediatrics-AllergyandImmunology  :  0.0030198403511067715\n",
            "Pediatrics-EmergencyMedicine  :  0.0030198403511067715\n",
            "Resident  :  0.0020132269007378475\n",
            "Surgery-PlasticwithinHeadandNeck  :  0.0010066134503689237\n",
            "Dermatology  :  0.0010066134503689237\n",
            "Speech  :  0.0010066134503689237\n",
            "Neurophysiology  :  0.0010066134503689237\n",
            "Perinatology  :  0.0010066134503689237\n",
            "Pediatrics-InfectiousDiseases  :  0.0010066134503689237\n",
            "Proctology  :  0.0010066134503689237\n",
            "Psychiatry-Addictive  :  0.0010066134503689237\n",
            "SportsMedicine  :  0.0010066134503689237\n"
          ]
        }
      ]
    },
    {
      "cell_type": "code",
      "metadata": {
        "id": "clZgE2WqzMmd"
      },
      "source": [
        "def formatear_especialidad(col):\n",
        "  #Se encuentrar las clases que aparecen menos de 80 veces\n",
        "  v_count=col.value_counts()\n",
        "  lista_other=[]\n",
        "  for a in range(0,len(v_count)):\n",
        "    proportion=v_count[a]*100/df.shape[0]\n",
        "    if proportion<1:\n",
        "      lista_other.append(v_count.index[a])\n",
        "\n",
        "  lastList=[]\n",
        "  for val in col:\n",
        "    if val in lista_other:\n",
        "      val=\"Other\"\n",
        "    lastList.append(val)\n",
        "  return lastList"
      ],
      "execution_count": null,
      "outputs": []
    },
    {
      "cell_type": "code",
      "metadata": {
        "colab": {
          "base_uri": "https://localhost:8080/"
        },
        "id": "N4zFHVsszMme",
        "outputId": "f539bbb1-095a-4d31-f7a2-d18f5057f93d"
      },
      "source": [
        "print(len(df[\"medical_specialty\"].value_counts()))\n",
        "df[\"medical_specialty\"]=formatear_especialidad(df[\"medical_specialty\"])\n",
        "print(len(df[\"medical_specialty\"].value_counts()))"
      ],
      "execution_count": null,
      "outputs": [
        {
          "output_type": "stream",
          "name": "stdout",
          "text": [
            "73\n",
            "11\n"
          ]
        }
      ]
    },
    {
      "cell_type": "code",
      "metadata": {
        "colab": {
          "base_uri": "https://localhost:8080/"
        },
        "id": "HDxYMnGjzMmf",
        "outputId": "3c1f2158-84b3-4fc4-e5ad-4a9b2f1dde10"
      },
      "source": [
        "v_c=df[\"medical_specialty\"].value_counts()\n",
        "for i in range(0,len(v_c)):\n",
        "  valor=\"{:.2f}\".format(v_c[i]*100/df.shape[0])\n",
        "  print(v_c.index[i],\":\",valor)"
      ],
      "execution_count": null,
      "outputs": [
        {
          "output_type": "stream",
          "name": "stdout",
          "text": [
            "Unknown : 48.94\n",
            "InternalMedicine : 14.33\n",
            "Other : 8.25\n",
            "Emergency/Trauma : 7.47\n",
            "Family/GeneralPractice : 7.30\n",
            "Cardiology : 5.31\n",
            "Surgery-General : 3.08\n",
            "Nephrology : 1.55\n",
            "Orthopedics : 1.40\n",
            "Orthopedics-Reconstructive : 1.24\n",
            "Radiologist : 1.13\n"
          ]
        }
      ]
    },
    {
      "cell_type": "markdown",
      "metadata": {
        "id": "S978GoOkobw1"
      },
      "source": [
        "## formatear los fatures admission type discharge disposition, admission source,A1Cresult Y los cambios de medicina"
      ]
    },
    {
      "cell_type": "markdown",
      "metadata": {
        "id": "rgG6T1nPLhhT"
      },
      "source": [
        "a. formateo de admission_type_id"
      ]
    },
    {
      "cell_type": "code",
      "metadata": {
        "colab": {
          "base_uri": "https://localhost:8080/"
        },
        "id": "mXouP2JV8sjQ",
        "outputId": "0b040446-f979-4866-ca94-5201f1d20019"
      },
      "source": [
        "print(\"numero de categorias antes de ser formateada:\" ,len(df['admission_type_id'].value_counts()))\n",
        "df['admission_type_id'] = df['admission_type_id'].replace(2,1)\n",
        "df['admission_type_id'] = df['admission_type_id'].replace(7,1)\n",
        "df['admission_type_id'] = df['admission_type_id'].replace(6,5)\n",
        "df['admission_type_id'] = df['admission_type_id'].replace(8,5)\n",
        "print(\"numero de categorias despues de ser formateada:\" ,len(df['admission_type_id'].value_counts()))\n"
      ],
      "execution_count": null,
      "outputs": [
        {
          "output_type": "stream",
          "name": "stdout",
          "text": [
            "numero de categorias antes de ser formateada: 8\n",
            "numero de categorias despues de ser formateada: 4\n"
          ]
        }
      ]
    },
    {
      "cell_type": "markdown",
      "metadata": {
        "id": "X_45X89ZMcOY"
      },
      "source": [
        "b. formateo de admission_source_id"
      ]
    },
    {
      "cell_type": "code",
      "metadata": {
        "colab": {
          "base_uri": "https://localhost:8080/"
        },
        "id": "qFKzt7bhMcOa",
        "outputId": "f5edbc32-8f66-4466-885b-92b7d7a30800"
      },
      "source": [
        "print(\"numero de categorias antes de ser formateada:\" ,len(df['admission_source_id'].value_counts()))\n",
        "df['admission_source_id'] = df['admission_source_id'].replace(2,1)\n",
        "df['admission_source_id'] = df['admission_source_id'].replace(3,1)\n",
        "df['admission_source_id'] = df['admission_source_id'].replace(4,2)\n",
        "df['admission_source_id'] = df['admission_source_id'].replace(5,2)\n",
        "df['admission_source_id'] = df['admission_source_id'].replace(6,2)\n",
        "df['admission_source_id'] = df['admission_source_id'].replace(10,2)\n",
        "df['admission_source_id'] = df['admission_source_id'].replace(22,2)\n",
        "df['admission_source_id'] = df['admission_source_id'].replace(25,2)\n",
        "df['admission_source_id'] = df['admission_source_id'].replace(9,3)\n",
        "df['admission_source_id'] = df['admission_source_id'].replace(15,3)\n",
        "df['admission_source_id'] = df['admission_source_id'].replace(17,3)\n",
        "df['admission_source_id'] = df['admission_source_id'].replace(20,3)\n",
        "df['admission_source_id'] = df['admission_source_id'].replace(21,3)\n",
        "df['admission_source_id'] = df['admission_source_id'].replace(13,11)\n",
        "df['admission_source_id'] = df['admission_source_id'].replace(14,11)\n",
        "print(\"numero de categorias despues de ser formateada:\" ,len(df['admission_source_id'].value_counts()))\n"
      ],
      "execution_count": null,
      "outputs": [
        {
          "output_type": "stream",
          "name": "stdout",
          "text": [
            "numero de categorias antes de ser formateada: 17\n",
            "numero de categorias despues de ser formateada: 6\n"
          ]
        }
      ]
    },
    {
      "cell_type": "markdown",
      "metadata": {
        "id": "zpKCGsb_NzSG"
      },
      "source": [
        "c. formateo de discharge_disposition_id"
      ]
    },
    {
      "cell_type": "code",
      "metadata": {
        "colab": {
          "base_uri": "https://localhost:8080/"
        },
        "id": "WyLt1bhWNzSP",
        "outputId": "1025eb9e-8832-44b5-f6ee-75315d06f971"
      },
      "source": [
        "print(\"numero de categorias antes de ser formateada:\" ,len(df['discharge_disposition_id'].value_counts()))\n",
        "df['discharge_disposition_id'] = df['discharge_disposition_id'].replace(6,1)\n",
        "df['discharge_disposition_id'] = df['discharge_disposition_id'].replace(8,1)\n",
        "df['discharge_disposition_id'] = df['discharge_disposition_id'].replace(9,1)\n",
        "df['discharge_disposition_id'] = df['discharge_disposition_id'].replace(3,2)\n",
        "df['discharge_disposition_id'] = df['discharge_disposition_id'].replace(4,2)\n",
        "df['discharge_disposition_id'] = df['discharge_disposition_id'].replace(5,2)\n",
        "df['discharge_disposition_id'] = df['discharge_disposition_id'].replace(22,2)\n",
        "df['discharge_disposition_id'] = df['discharge_disposition_id'].replace(23,2)\n",
        "df['discharge_disposition_id'] = df['discharge_disposition_id'].replace(24,2)\n",
        "df['discharge_disposition_id'] = df['discharge_disposition_id'].replace(12,3)\n",
        "df['discharge_disposition_id'] = df['discharge_disposition_id'].replace(15,3)\n",
        "df['discharge_disposition_id'] = df['discharge_disposition_id'].replace(16,3)\n",
        "df['discharge_disposition_id'] = df['discharge_disposition_id'].replace(17,3)\n",
        "df['discharge_disposition_id'] = df['discharge_disposition_id'].replace(18,4)\n",
        "df['discharge_disposition_id'] = df['discharge_disposition_id'].replace(25,4)\n",
        "df['discharge_disposition_id'] = df['discharge_disposition_id'].replace(26,4)\n",
        "df['admission_type_id'] = df['admission_type_id'].replace(8,5)\n",
        "print(\"numero de categorias despues de ser formateada:\" ,len(df['discharge_disposition_id'].value_counts()))\n"
      ],
      "execution_count": null,
      "outputs": [
        {
          "output_type": "stream",
          "name": "stdout",
          "text": [
            "numero de categorias antes de ser formateada: 21\n",
            "numero de categorias despues de ser formateada: 8\n"
          ]
        }
      ]
    },
    {
      "cell_type": "markdown",
      "metadata": {
        "id": "Cs3YxQBLITxz"
      },
      "source": [
        "d. formateo de A1Cresult"
      ]
    },
    {
      "cell_type": "code",
      "metadata": {
        "id": "e1BHDQUtwQzw"
      },
      "source": [
        "df['A1Cresult'] = df['A1Cresult'].replace('>7', 1)\n",
        "df['A1Cresult'] = df['A1Cresult'].replace('>8', 1)\n",
        "df['A1Cresult'] = df['A1Cresult'].replace('Norm', 0)\n",
        "df['A1Cresult'] = df['A1Cresult'].replace('None', -1)\n"
      ],
      "execution_count": null,
      "outputs": []
    },
    {
      "cell_type": "code",
      "metadata": {
        "colab": {
          "base_uri": "https://localhost:8080/"
        },
        "id": "_TyTgY49kzAD",
        "outputId": "812e7d1d-f7a6-4e83-938b-68866c73c441"
      },
      "source": [
        "print(df.select_dtypes(include=[object]).columns)"
      ],
      "execution_count": null,
      "outputs": [
        {
          "output_type": "stream",
          "name": "stdout",
          "text": [
            "Index(['race', 'gender', 'age', 'medical_specialty', 'diag_1', 'diag_2',\n",
            "       'diag_3', 'metformin', 'glipizide', 'glyburide', 'pioglitazone',\n",
            "       'rosiglitazone', 'insulin', 'change', 'diabetesMed', 'readmitted'],\n",
            "      dtype='object')\n"
          ]
        }
      ]
    },
    {
      "cell_type": "markdown",
      "metadata": {
        "id": "lOMjhnW-fDSh"
      },
      "source": [
        "e. Formateo de los cambios de medicina"
      ]
    },
    {
      "cell_type": "code",
      "metadata": {
        "id": "P0TPCPxDfVvB"
      },
      "source": [
        "medicine_cols=['metformin', 'glipizide', 'glyburide', 'rosiglitazone','insulin','pioglitazone', 'rosiglitazone']\n",
        "for col in medicine_cols: \n",
        "    df[col] = df[col].replace('No', 0)\n",
        "    df[col] = df[col].replace('Up', 1)\n",
        "    df[col] = df[col].replace('Down', 1)\n",
        "    df[col] = df[col].replace('Steady', 1)"
      ],
      "execution_count": null,
      "outputs": []
    },
    {
      "cell_type": "markdown",
      "metadata": {
        "id": "aajP5kACE3WF"
      },
      "source": [
        "##Cambio de tipo de variable"
      ]
    },
    {
      "cell_type": "markdown",
      "metadata": {
        "id": "o90LHRL0E9xk"
      },
      "source": [
        "Cambio de variable age de str a int"
      ]
    },
    {
      "cell_type": "code",
      "metadata": {
        "colab": {
          "base_uri": "https://localhost:8080/"
        },
        "id": "UV-H5TlIG_bv",
        "outputId": "ed64579c-09ed-4e88-87b3-6bd9204882c9"
      },
      "source": [
        "df[\"age\"].value_counts()"
      ],
      "execution_count": null,
      "outputs": [
        {
          "output_type": "execute_result",
          "data": {
            "text/plain": [
              "[70-80)     25331\n",
              "[60-70)     22059\n",
              "[50-60)     17060\n",
              "[80-90)     16434\n",
              "[40-50)      9607\n",
              "[30-40)      3764\n",
              "[90-100)     2589\n",
              "[20-30)      1649\n",
              "[10-20)       690\n",
              "[0-10)        160\n",
              "Name: age, dtype: int64"
            ]
          },
          "metadata": {},
          "execution_count": 40
        }
      ]
    },
    {
      "cell_type": "code",
      "metadata": {
        "id": "0ES5PejSUpRQ"
      },
      "source": [
        "def cambiar_age(column):\n",
        "\n",
        "  lista_final=[]\n",
        "  for val in column:\n",
        "    if(val==\"[0-10)\"):\n",
        "      lista_final.append(10)\n",
        "    elif(val==\"[10-20)\"):\n",
        "      lista_final.append(20)\n",
        "    elif(val==\"[20-30)\"):\n",
        "      lista_final.append(30)\n",
        "    elif(val==\"[30-40)\"):\n",
        "      lista_final.append(40)\n",
        "    elif(val==\"[40-50)\"):\n",
        "          lista_final.append(50)\n",
        "    elif(val==\"[50-60)\"):\n",
        "      lista_final.append(60)\n",
        "    elif(val==\"[60-70)\"):\n",
        "      lista_final.append(70)\n",
        "    elif(val==\"[70-80)\"):\n",
        "      lista_final.append(80)\n",
        "    elif(val==\"[80-90)\"):\n",
        "      lista_final.append(90)\n",
        "    elif(val==\"[90-100)\"):\n",
        "      lista_final.append(100)\n",
        "    else:\n",
        "      print(\"ELSE \",val)\n",
        "  return lista_final  "
      ],
      "execution_count": null,
      "outputs": []
    },
    {
      "cell_type": "code",
      "metadata": {
        "id": "tTX7vIPsHQfD"
      },
      "source": [
        "df[\"age\"]=cambiar_age(df[\"age\"])\n"
      ],
      "execution_count": null,
      "outputs": []
    },
    {
      "cell_type": "markdown",
      "metadata": {
        "id": "e9WDn4pfHik9"
      },
      "source": [
        "Se cambia el tipo de \"admission_type_id\",\"discharge_disposition_id\" y \"admission_source_id\" a categorica"
      ]
    },
    {
      "cell_type": "code",
      "metadata": {
        "id": "zJreL7WmK2Wt"
      },
      "source": [
        "columns=[\"admission_type_id\",\"discharge_disposition_id\", \"admission_source_id\"]\n",
        "df[columns]=df[columns].astype(object)"
      ],
      "execution_count": null,
      "outputs": []
    },
    {
      "cell_type": "markdown",
      "metadata": {
        "id": "nzPaHLE4LAlt"
      },
      "source": [
        "## Escalar los datos y convertir las variables categoricas a enteros"
      ]
    },
    {
      "cell_type": "code",
      "metadata": {
        "colab": {
          "base_uri": "https://localhost:8080/",
          "height": 444
        },
        "id": "1q9n3FF2srZw",
        "outputId": "15594ea5-1bf8-4e0d-fb17-daa310a2d496"
      },
      "source": [
        "df"
      ],
      "execution_count": null,
      "outputs": [
        {
          "output_type": "execute_result",
          "data": {
            "text/html": [
              "<div>\n",
              "<style scoped>\n",
              "    .dataframe tbody tr th:only-of-type {\n",
              "        vertical-align: middle;\n",
              "    }\n",
              "\n",
              "    .dataframe tbody tr th {\n",
              "        vertical-align: top;\n",
              "    }\n",
              "\n",
              "    .dataframe thead th {\n",
              "        text-align: right;\n",
              "    }\n",
              "</style>\n",
              "<table border=\"1\" class=\"dataframe\">\n",
              "  <thead>\n",
              "    <tr style=\"text-align: right;\">\n",
              "      <th></th>\n",
              "      <th>race</th>\n",
              "      <th>gender</th>\n",
              "      <th>age</th>\n",
              "      <th>admission_type_id</th>\n",
              "      <th>discharge_disposition_id</th>\n",
              "      <th>admission_source_id</th>\n",
              "      <th>time_in_hospital</th>\n",
              "      <th>medical_specialty</th>\n",
              "      <th>num_lab_procedures</th>\n",
              "      <th>num_procedures</th>\n",
              "      <th>num_medications</th>\n",
              "      <th>number_outpatient</th>\n",
              "      <th>number_emergency</th>\n",
              "      <th>number_inpatient</th>\n",
              "      <th>diag_1</th>\n",
              "      <th>diag_2</th>\n",
              "      <th>diag_3</th>\n",
              "      <th>number_diagnoses</th>\n",
              "      <th>A1Cresult</th>\n",
              "      <th>metformin</th>\n",
              "      <th>glipizide</th>\n",
              "      <th>glyburide</th>\n",
              "      <th>pioglitazone</th>\n",
              "      <th>rosiglitazone</th>\n",
              "      <th>insulin</th>\n",
              "      <th>change</th>\n",
              "      <th>diabetesMed</th>\n",
              "      <th>readmitted</th>\n",
              "      <th>number_hospital</th>\n",
              "      <th>total_procedures</th>\n",
              "      <th>dosis_changes</th>\n",
              "      <th>num_medicines</th>\n",
              "      <th>dosis_plus_minus</th>\n",
              "    </tr>\n",
              "  </thead>\n",
              "  <tbody>\n",
              "    <tr>\n",
              "      <th>0</th>\n",
              "      <td>Caucasian</td>\n",
              "      <td>Female</td>\n",
              "      <td>10</td>\n",
              "      <td>5</td>\n",
              "      <td>4</td>\n",
              "      <td>1</td>\n",
              "      <td>1</td>\n",
              "      <td>Other</td>\n",
              "      <td>41</td>\n",
              "      <td>0</td>\n",
              "      <td>1</td>\n",
              "      <td>0</td>\n",
              "      <td>0</td>\n",
              "      <td>0</td>\n",
              "      <td>Diabetes</td>\n",
              "      <td>Other</td>\n",
              "      <td>Other</td>\n",
              "      <td>1</td>\n",
              "      <td>-1</td>\n",
              "      <td>0</td>\n",
              "      <td>0</td>\n",
              "      <td>0</td>\n",
              "      <td>0</td>\n",
              "      <td>0</td>\n",
              "      <td>0</td>\n",
              "      <td>No</td>\n",
              "      <td>No</td>\n",
              "      <td>NO</td>\n",
              "      <td>0</td>\n",
              "      <td>41</td>\n",
              "      <td>0</td>\n",
              "      <td>0</td>\n",
              "      <td>0</td>\n",
              "    </tr>\n",
              "    <tr>\n",
              "      <th>1</th>\n",
              "      <td>Caucasian</td>\n",
              "      <td>Female</td>\n",
              "      <td>20</td>\n",
              "      <td>1</td>\n",
              "      <td>1</td>\n",
              "      <td>7</td>\n",
              "      <td>3</td>\n",
              "      <td>Unknown</td>\n",
              "      <td>59</td>\n",
              "      <td>0</td>\n",
              "      <td>18</td>\n",
              "      <td>0</td>\n",
              "      <td>0</td>\n",
              "      <td>0</td>\n",
              "      <td>Other</td>\n",
              "      <td>Diabetes</td>\n",
              "      <td>nutritional</td>\n",
              "      <td>9</td>\n",
              "      <td>-1</td>\n",
              "      <td>0</td>\n",
              "      <td>0</td>\n",
              "      <td>0</td>\n",
              "      <td>0</td>\n",
              "      <td>0</td>\n",
              "      <td>1</td>\n",
              "      <td>Ch</td>\n",
              "      <td>Yes</td>\n",
              "      <td>&gt;30</td>\n",
              "      <td>0</td>\n",
              "      <td>59</td>\n",
              "      <td>1</td>\n",
              "      <td>1</td>\n",
              "      <td>1</td>\n",
              "    </tr>\n",
              "    <tr>\n",
              "      <th>2</th>\n",
              "      <td>AfricanAmerican</td>\n",
              "      <td>Female</td>\n",
              "      <td>30</td>\n",
              "      <td>1</td>\n",
              "      <td>1</td>\n",
              "      <td>7</td>\n",
              "      <td>2</td>\n",
              "      <td>Unknown</td>\n",
              "      <td>11</td>\n",
              "      <td>5</td>\n",
              "      <td>13</td>\n",
              "      <td>2</td>\n",
              "      <td>0</td>\n",
              "      <td>1</td>\n",
              "      <td>Other</td>\n",
              "      <td>Diabetes</td>\n",
              "      <td>E–V</td>\n",
              "      <td>6</td>\n",
              "      <td>-1</td>\n",
              "      <td>0</td>\n",
              "      <td>1</td>\n",
              "      <td>0</td>\n",
              "      <td>0</td>\n",
              "      <td>0</td>\n",
              "      <td>0</td>\n",
              "      <td>No</td>\n",
              "      <td>Yes</td>\n",
              "      <td>NO</td>\n",
              "      <td>3</td>\n",
              "      <td>16</td>\n",
              "      <td>0</td>\n",
              "      <td>1</td>\n",
              "      <td>0</td>\n",
              "    </tr>\n",
              "    <tr>\n",
              "      <th>3</th>\n",
              "      <td>Caucasian</td>\n",
              "      <td>Male</td>\n",
              "      <td>40</td>\n",
              "      <td>1</td>\n",
              "      <td>1</td>\n",
              "      <td>7</td>\n",
              "      <td>2</td>\n",
              "      <td>Unknown</td>\n",
              "      <td>44</td>\n",
              "      <td>1</td>\n",
              "      <td>16</td>\n",
              "      <td>0</td>\n",
              "      <td>0</td>\n",
              "      <td>0</td>\n",
              "      <td>Other</td>\n",
              "      <td>Diabetes</td>\n",
              "      <td>Circulatory</td>\n",
              "      <td>7</td>\n",
              "      <td>-1</td>\n",
              "      <td>0</td>\n",
              "      <td>0</td>\n",
              "      <td>0</td>\n",
              "      <td>0</td>\n",
              "      <td>0</td>\n",
              "      <td>1</td>\n",
              "      <td>Ch</td>\n",
              "      <td>Yes</td>\n",
              "      <td>NO</td>\n",
              "      <td>0</td>\n",
              "      <td>45</td>\n",
              "      <td>1</td>\n",
              "      <td>1</td>\n",
              "      <td>1</td>\n",
              "    </tr>\n",
              "    <tr>\n",
              "      <th>4</th>\n",
              "      <td>Caucasian</td>\n",
              "      <td>Male</td>\n",
              "      <td>50</td>\n",
              "      <td>1</td>\n",
              "      <td>1</td>\n",
              "      <td>7</td>\n",
              "      <td>1</td>\n",
              "      <td>Unknown</td>\n",
              "      <td>51</td>\n",
              "      <td>0</td>\n",
              "      <td>8</td>\n",
              "      <td>0</td>\n",
              "      <td>0</td>\n",
              "      <td>0</td>\n",
              "      <td>Neoplasm</td>\n",
              "      <td>Other</td>\n",
              "      <td>Diabetes</td>\n",
              "      <td>5</td>\n",
              "      <td>-1</td>\n",
              "      <td>0</td>\n",
              "      <td>1</td>\n",
              "      <td>0</td>\n",
              "      <td>0</td>\n",
              "      <td>0</td>\n",
              "      <td>1</td>\n",
              "      <td>Ch</td>\n",
              "      <td>Yes</td>\n",
              "      <td>NO</td>\n",
              "      <td>0</td>\n",
              "      <td>51</td>\n",
              "      <td>0</td>\n",
              "      <td>2</td>\n",
              "      <td>0</td>\n",
              "    </tr>\n",
              "    <tr>\n",
              "      <th>...</th>\n",
              "      <td>...</td>\n",
              "      <td>...</td>\n",
              "      <td>...</td>\n",
              "      <td>...</td>\n",
              "      <td>...</td>\n",
              "      <td>...</td>\n",
              "      <td>...</td>\n",
              "      <td>...</td>\n",
              "      <td>...</td>\n",
              "      <td>...</td>\n",
              "      <td>...</td>\n",
              "      <td>...</td>\n",
              "      <td>...</td>\n",
              "      <td>...</td>\n",
              "      <td>...</td>\n",
              "      <td>...</td>\n",
              "      <td>...</td>\n",
              "      <td>...</td>\n",
              "      <td>...</td>\n",
              "      <td>...</td>\n",
              "      <td>...</td>\n",
              "      <td>...</td>\n",
              "      <td>...</td>\n",
              "      <td>...</td>\n",
              "      <td>...</td>\n",
              "      <td>...</td>\n",
              "      <td>...</td>\n",
              "      <td>...</td>\n",
              "      <td>...</td>\n",
              "      <td>...</td>\n",
              "      <td>...</td>\n",
              "      <td>...</td>\n",
              "      <td>...</td>\n",
              "    </tr>\n",
              "    <tr>\n",
              "      <th>101761</th>\n",
              "      <td>AfricanAmerican</td>\n",
              "      <td>Male</td>\n",
              "      <td>80</td>\n",
              "      <td>1</td>\n",
              "      <td>2</td>\n",
              "      <td>7</td>\n",
              "      <td>3</td>\n",
              "      <td>Unknown</td>\n",
              "      <td>51</td>\n",
              "      <td>0</td>\n",
              "      <td>16</td>\n",
              "      <td>0</td>\n",
              "      <td>0</td>\n",
              "      <td>0</td>\n",
              "      <td>Diabetes</td>\n",
              "      <td>Other</td>\n",
              "      <td>Circulatory</td>\n",
              "      <td>9</td>\n",
              "      <td>1</td>\n",
              "      <td>1</td>\n",
              "      <td>0</td>\n",
              "      <td>0</td>\n",
              "      <td>0</td>\n",
              "      <td>0</td>\n",
              "      <td>1</td>\n",
              "      <td>Ch</td>\n",
              "      <td>Yes</td>\n",
              "      <td>&gt;30</td>\n",
              "      <td>0</td>\n",
              "      <td>51</td>\n",
              "      <td>1</td>\n",
              "      <td>2</td>\n",
              "      <td>-1</td>\n",
              "    </tr>\n",
              "    <tr>\n",
              "      <th>101762</th>\n",
              "      <td>AfricanAmerican</td>\n",
              "      <td>Female</td>\n",
              "      <td>90</td>\n",
              "      <td>1</td>\n",
              "      <td>2</td>\n",
              "      <td>2</td>\n",
              "      <td>5</td>\n",
              "      <td>Unknown</td>\n",
              "      <td>33</td>\n",
              "      <td>3</td>\n",
              "      <td>18</td>\n",
              "      <td>0</td>\n",
              "      <td>0</td>\n",
              "      <td>1</td>\n",
              "      <td>Digestive</td>\n",
              "      <td>nutritional</td>\n",
              "      <td>Digestive</td>\n",
              "      <td>9</td>\n",
              "      <td>-1</td>\n",
              "      <td>0</td>\n",
              "      <td>0</td>\n",
              "      <td>0</td>\n",
              "      <td>0</td>\n",
              "      <td>0</td>\n",
              "      <td>1</td>\n",
              "      <td>No</td>\n",
              "      <td>Yes</td>\n",
              "      <td>NO</td>\n",
              "      <td>1</td>\n",
              "      <td>36</td>\n",
              "      <td>0</td>\n",
              "      <td>1</td>\n",
              "      <td>0</td>\n",
              "    </tr>\n",
              "    <tr>\n",
              "      <th>101763</th>\n",
              "      <td>Caucasian</td>\n",
              "      <td>Male</td>\n",
              "      <td>80</td>\n",
              "      <td>1</td>\n",
              "      <td>1</td>\n",
              "      <td>7</td>\n",
              "      <td>1</td>\n",
              "      <td>Unknown</td>\n",
              "      <td>53</td>\n",
              "      <td>0</td>\n",
              "      <td>9</td>\n",
              "      <td>1</td>\n",
              "      <td>0</td>\n",
              "      <td>0</td>\n",
              "      <td>Other</td>\n",
              "      <td>Genitourinary</td>\n",
              "      <td>Mental</td>\n",
              "      <td>13</td>\n",
              "      <td>-1</td>\n",
              "      <td>1</td>\n",
              "      <td>0</td>\n",
              "      <td>0</td>\n",
              "      <td>0</td>\n",
              "      <td>0</td>\n",
              "      <td>1</td>\n",
              "      <td>Ch</td>\n",
              "      <td>Yes</td>\n",
              "      <td>NO</td>\n",
              "      <td>1</td>\n",
              "      <td>53</td>\n",
              "      <td>1</td>\n",
              "      <td>2</td>\n",
              "      <td>-1</td>\n",
              "    </tr>\n",
              "    <tr>\n",
              "      <th>101764</th>\n",
              "      <td>Caucasian</td>\n",
              "      <td>Female</td>\n",
              "      <td>90</td>\n",
              "      <td>1</td>\n",
              "      <td>2</td>\n",
              "      <td>7</td>\n",
              "      <td>10</td>\n",
              "      <td>Surgery-General</td>\n",
              "      <td>45</td>\n",
              "      <td>2</td>\n",
              "      <td>21</td>\n",
              "      <td>0</td>\n",
              "      <td>0</td>\n",
              "      <td>1</td>\n",
              "      <td>Injury</td>\n",
              "      <td>Other</td>\n",
              "      <td>Other</td>\n",
              "      <td>9</td>\n",
              "      <td>-1</td>\n",
              "      <td>0</td>\n",
              "      <td>1</td>\n",
              "      <td>0</td>\n",
              "      <td>1</td>\n",
              "      <td>0</td>\n",
              "      <td>1</td>\n",
              "      <td>Ch</td>\n",
              "      <td>Yes</td>\n",
              "      <td>NO</td>\n",
              "      <td>1</td>\n",
              "      <td>47</td>\n",
              "      <td>1</td>\n",
              "      <td>3</td>\n",
              "      <td>1</td>\n",
              "    </tr>\n",
              "    <tr>\n",
              "      <th>101765</th>\n",
              "      <td>Caucasian</td>\n",
              "      <td>Male</td>\n",
              "      <td>80</td>\n",
              "      <td>1</td>\n",
              "      <td>1</td>\n",
              "      <td>7</td>\n",
              "      <td>6</td>\n",
              "      <td>Unknown</td>\n",
              "      <td>13</td>\n",
              "      <td>3</td>\n",
              "      <td>3</td>\n",
              "      <td>0</td>\n",
              "      <td>0</td>\n",
              "      <td>0</td>\n",
              "      <td>Digestive</td>\n",
              "      <td>Digestive</td>\n",
              "      <td>Digestive</td>\n",
              "      <td>9</td>\n",
              "      <td>-1</td>\n",
              "      <td>0</td>\n",
              "      <td>0</td>\n",
              "      <td>0</td>\n",
              "      <td>0</td>\n",
              "      <td>0</td>\n",
              "      <td>0</td>\n",
              "      <td>No</td>\n",
              "      <td>No</td>\n",
              "      <td>NO</td>\n",
              "      <td>0</td>\n",
              "      <td>16</td>\n",
              "      <td>0</td>\n",
              "      <td>0</td>\n",
              "      <td>0</td>\n",
              "    </tr>\n",
              "  </tbody>\n",
              "</table>\n",
              "<p>99343 rows × 33 columns</p>\n",
              "</div>"
            ],
            "text/plain": [
              "                   race  gender  ...  num_medicines dosis_plus_minus\n",
              "0             Caucasian  Female  ...              0                0\n",
              "1             Caucasian  Female  ...              1                1\n",
              "2       AfricanAmerican  Female  ...              1                0\n",
              "3             Caucasian    Male  ...              1                1\n",
              "4             Caucasian    Male  ...              2                0\n",
              "...                 ...     ...  ...            ...              ...\n",
              "101761  AfricanAmerican    Male  ...              2               -1\n",
              "101762  AfricanAmerican  Female  ...              1                0\n",
              "101763        Caucasian    Male  ...              2               -1\n",
              "101764        Caucasian  Female  ...              3                1\n",
              "101765        Caucasian    Male  ...              0                0\n",
              "\n",
              "[99343 rows x 33 columns]"
            ]
          },
          "metadata": {},
          "execution_count": 44
        }
      ]
    },
    {
      "cell_type": "markdown",
      "metadata": {
        "id": "6pgAcQxld9AX"
      },
      "source": [
        "numero total de variables numericas y categoricas"
      ]
    },
    {
      "cell_type": "code",
      "metadata": {
        "colab": {
          "base_uri": "https://localhost:8080/"
        },
        "id": "JPJnAlqleADE",
        "outputId": "9705c609-851b-43a4-d961-9b66ec7210fa"
      },
      "source": [
        "medicine_cols=['metformin', 'glipizide', 'glyburide', 'rosiglitazone','insulin','pioglitazone']\n",
        "categorical_columns = df.select_dtypes(include=[object]).columns.tolist()+medicine_cols\n",
        "numerical_columns=df[df.columns.difference(categorical_columns)].columns\n",
        "\n",
        "print(\"Categoricas:\",len(categorical_columns))\n",
        "print(categorical_columns)\n",
        "print()\n",
        "print(\"Numericas:\",len(numerical_columns))\n",
        "print(numerical_columns.tolist())\n",
        "\n"
      ],
      "execution_count": null,
      "outputs": [
        {
          "output_type": "stream",
          "name": "stdout",
          "text": [
            "Categoricas: 18\n",
            "['race', 'gender', 'admission_type_id', 'discharge_disposition_id', 'admission_source_id', 'medical_specialty', 'diag_1', 'diag_2', 'diag_3', 'change', 'diabetesMed', 'readmitted', 'metformin', 'glipizide', 'glyburide', 'rosiglitazone', 'insulin', 'pioglitazone']\n",
            "\n",
            "Numericas: 15\n",
            "['A1Cresult', 'age', 'dosis_changes', 'dosis_plus_minus', 'num_lab_procedures', 'num_medications', 'num_medicines', 'num_procedures', 'number_diagnoses', 'number_emergency', 'number_hospital', 'number_inpatient', 'number_outpatient', 'time_in_hospital', 'total_procedures']\n"
          ]
        }
      ]
    },
    {
      "cell_type": "code",
      "metadata": {
        "colab": {
          "base_uri": "https://localhost:8080/"
        },
        "id": "EQQELPp2v6hK",
        "outputId": "fbf86ca1-f5c9-4419-91c1-944e9bd4047d"
      },
      "source": [
        "df.columns"
      ],
      "execution_count": null,
      "outputs": [
        {
          "output_type": "execute_result",
          "data": {
            "text/plain": [
              "Index(['race', 'gender', 'age', 'admission_type_id',\n",
              "       'discharge_disposition_id', 'admission_source_id', 'time_in_hospital',\n",
              "       'medical_specialty', 'num_lab_procedures', 'num_procedures',\n",
              "       'num_medications', 'number_outpatient', 'number_emergency',\n",
              "       'number_inpatient', 'diag_1', 'diag_2', 'diag_3', 'number_diagnoses',\n",
              "       'A1Cresult', 'metformin', 'glipizide', 'glyburide', 'pioglitazone',\n",
              "       'rosiglitazone', 'insulin', 'change', 'diabetesMed', 'readmitted',\n",
              "       'number_hospital', 'total_procedures', 'dosis_changes', 'num_medicines',\n",
              "       'dosis_plus_minus'],\n",
              "      dtype='object')"
            ]
          },
          "metadata": {},
          "execution_count": 46
        }
      ]
    },
    {
      "cell_type": "markdown",
      "metadata": {
        "id": "aW9AMwJd_q4e"
      },
      "source": [
        "a. Escalado de los datos numericos"
      ]
    },
    {
      "cell_type": "code",
      "metadata": {
        "id": "1unEWaBiACfi"
      },
      "source": [
        "df[numerical_columns]=(df[numerical_columns]-df[numerical_columns].min())/(df[numerical_columns].max()-df[numerical_columns].min())"
      ],
      "execution_count": null,
      "outputs": []
    },
    {
      "cell_type": "markdown",
      "metadata": {
        "id": "hYlCmG7N-EFc"
      },
      "source": [
        "b.1 Las columnas que contienen dos clases solos se formatean de la siguiente manera:\n",
        "\n",
        "\n",
        "*   Se establece 0 para una clase\n",
        "*   Se establece 1 para la otra clase\n",
        "\n"
      ]
    },
    {
      "cell_type": "code",
      "metadata": {
        "colab": {
          "base_uri": "https://localhost:8080/"
        },
        "id": "Y6Hg9u_II623",
        "outputId": "c9402d38-9a43-446a-9016-097aa0412492"
      },
      "source": [
        "for col in categorical_columns:\n",
        "  v_count=df[col].value_counts()\n",
        "  if((len(v_count)==2) & (df[col].dtypes=='O')):\n",
        "    print(col,\" : \",v_count)\n",
        "    print()"
      ],
      "execution_count": null,
      "outputs": [
        {
          "output_type": "stream",
          "name": "stdout",
          "text": [
            "gender  :  Female    53457\n",
            "Male      45886\n",
            "Name: gender, dtype: int64\n",
            "\n",
            "change  :  No    53221\n",
            "Ch    46122\n",
            "Name: change, dtype: int64\n",
            "\n",
            "diabetesMed  :  Yes    76719\n",
            "No     22624\n",
            "Name: diabetesMed, dtype: int64\n",
            "\n"
          ]
        }
      ]
    },
    {
      "cell_type": "code",
      "metadata": {
        "id": "jjVgQcGAI-qG"
      },
      "source": [
        "df[\"gender\"] = df[\"gender\"].replace(\"Female\", 0)\n",
        "df[\"gender\"] = df[\"gender\"].replace(\"Male\", 1)\n",
        "df[\"diabetesMed\"] = df[\"diabetesMed\"].replace(\"No\", 0)\n",
        "df[\"diabetesMed\"] = df[\"diabetesMed\"].replace(\"Yes\", 1)\n",
        "df[\"change\"] = df[\"change\"].replace(\"No\", 0)\n",
        "df[\"change\"] = df[\"change\"].replace(\"Yes\", 1)"
      ],
      "execution_count": null,
      "outputs": []
    },
    {
      "cell_type": "markdown",
      "metadata": {
        "id": "X5CK-EYS_VdQ"
      },
      "source": [
        "b.2 Para las demas columnas se crea una columna nueva para cada clase"
      ]
    },
    {
      "cell_type": "code",
      "metadata": {
        "id": "K7sgjTcGJYBF"
      },
      "source": [
        "categorical_columns = df.select_dtypes(include=[object]).columns\n",
        "for column in categorical_columns:\n",
        "  if column==\"readmitted\":\n",
        "    continue\n",
        "  df=pd.get_dummies(df,columns=[column],prefix=[column])"
      ],
      "execution_count": null,
      "outputs": []
    },
    {
      "cell_type": "code",
      "metadata": {
        "colab": {
          "base_uri": "https://localhost:8080/"
        },
        "id": "RcAfet17JuwB",
        "outputId": "78b90dbc-32ca-4a57-9629-29e1c205ba0f"
      },
      "source": [
        "df.shape"
      ],
      "execution_count": null,
      "outputs": [
        {
          "output_type": "execute_result",
          "data": {
            "text/plain": [
              "(99343, 86)"
            ]
          },
          "metadata": {},
          "execution_count": 51
        }
      ]
    },
    {
      "cell_type": "code",
      "metadata": {
        "id": "3JlbS3tIK_sP",
        "colab": {
          "base_uri": "https://localhost:8080/",
          "height": 461
        },
        "outputId": "8046f00b-76d1-4cf6-ff28-32ca99249f9b"
      },
      "source": [
        "df"
      ],
      "execution_count": null,
      "outputs": [
        {
          "output_type": "execute_result",
          "data": {
            "text/html": [
              "<div>\n",
              "<style scoped>\n",
              "    .dataframe tbody tr th:only-of-type {\n",
              "        vertical-align: middle;\n",
              "    }\n",
              "\n",
              "    .dataframe tbody tr th {\n",
              "        vertical-align: top;\n",
              "    }\n",
              "\n",
              "    .dataframe thead th {\n",
              "        text-align: right;\n",
              "    }\n",
              "</style>\n",
              "<table border=\"1\" class=\"dataframe\">\n",
              "  <thead>\n",
              "    <tr style=\"text-align: right;\">\n",
              "      <th></th>\n",
              "      <th>gender</th>\n",
              "      <th>age</th>\n",
              "      <th>time_in_hospital</th>\n",
              "      <th>num_lab_procedures</th>\n",
              "      <th>num_procedures</th>\n",
              "      <th>num_medications</th>\n",
              "      <th>number_outpatient</th>\n",
              "      <th>number_emergency</th>\n",
              "      <th>number_inpatient</th>\n",
              "      <th>number_diagnoses</th>\n",
              "      <th>A1Cresult</th>\n",
              "      <th>metformin</th>\n",
              "      <th>glipizide</th>\n",
              "      <th>glyburide</th>\n",
              "      <th>pioglitazone</th>\n",
              "      <th>rosiglitazone</th>\n",
              "      <th>insulin</th>\n",
              "      <th>diabetesMed</th>\n",
              "      <th>readmitted</th>\n",
              "      <th>number_hospital</th>\n",
              "      <th>total_procedures</th>\n",
              "      <th>dosis_changes</th>\n",
              "      <th>num_medicines</th>\n",
              "      <th>dosis_plus_minus</th>\n",
              "      <th>race_AfricanAmerican</th>\n",
              "      <th>race_Asian</th>\n",
              "      <th>race_Caucasian</th>\n",
              "      <th>race_Hispanic</th>\n",
              "      <th>race_Other</th>\n",
              "      <th>admission_type_id_1</th>\n",
              "      <th>admission_type_id_3</th>\n",
              "      <th>admission_type_id_4</th>\n",
              "      <th>admission_type_id_5</th>\n",
              "      <th>discharge_disposition_id_1</th>\n",
              "      <th>discharge_disposition_id_2</th>\n",
              "      <th>discharge_disposition_id_3</th>\n",
              "      <th>discharge_disposition_id_4</th>\n",
              "      <th>discharge_disposition_id_7</th>\n",
              "      <th>discharge_disposition_id_10</th>\n",
              "      <th>discharge_disposition_id_27</th>\n",
              "      <th>...</th>\n",
              "      <th>admission_source_id_11</th>\n",
              "      <th>medical_specialty_Cardiology</th>\n",
              "      <th>medical_specialty_Emergency/Trauma</th>\n",
              "      <th>medical_specialty_Family/GeneralPractice</th>\n",
              "      <th>medical_specialty_InternalMedicine</th>\n",
              "      <th>medical_specialty_Nephrology</th>\n",
              "      <th>medical_specialty_Orthopedics</th>\n",
              "      <th>medical_specialty_Orthopedics-Reconstructive</th>\n",
              "      <th>medical_specialty_Other</th>\n",
              "      <th>medical_specialty_Radiologist</th>\n",
              "      <th>medical_specialty_Surgery-General</th>\n",
              "      <th>medical_specialty_Unknown</th>\n",
              "      <th>diag_1_Circulatory</th>\n",
              "      <th>diag_1_Diabetes</th>\n",
              "      <th>diag_1_Digestive</th>\n",
              "      <th>diag_1_Genitourinary</th>\n",
              "      <th>diag_1_Injury</th>\n",
              "      <th>diag_1_Musculoskeletal</th>\n",
              "      <th>diag_1_Neoplasm</th>\n",
              "      <th>diag_1_Other</th>\n",
              "      <th>diag_1_Respiratory</th>\n",
              "      <th>diag_2_Circulatory</th>\n",
              "      <th>diag_2_Diabetes</th>\n",
              "      <th>diag_2_Digestive</th>\n",
              "      <th>diag_2_Genitourinary</th>\n",
              "      <th>diag_2_Other</th>\n",
              "      <th>diag_2_Respiratory</th>\n",
              "      <th>diag_2_nutritional</th>\n",
              "      <th>diag_2_skin</th>\n",
              "      <th>diag_3_Circulatory</th>\n",
              "      <th>diag_3_Diabetes</th>\n",
              "      <th>diag_3_Digestive</th>\n",
              "      <th>diag_3_E–V</th>\n",
              "      <th>diag_3_Genitourinary</th>\n",
              "      <th>diag_3_Mental</th>\n",
              "      <th>diag_3_Other</th>\n",
              "      <th>diag_3_Respiratory</th>\n",
              "      <th>diag_3_nutritional</th>\n",
              "      <th>change_0</th>\n",
              "      <th>change_Ch</th>\n",
              "    </tr>\n",
              "  </thead>\n",
              "  <tbody>\n",
              "    <tr>\n",
              "      <th>0</th>\n",
              "      <td>0</td>\n",
              "      <td>0.000000</td>\n",
              "      <td>0.000000</td>\n",
              "      <td>0.305344</td>\n",
              "      <td>0.000000</td>\n",
              "      <td>0.0000</td>\n",
              "      <td>0.000000</td>\n",
              "      <td>0.0</td>\n",
              "      <td>0.000000</td>\n",
              "      <td>0.000000</td>\n",
              "      <td>0.0</td>\n",
              "      <td>0</td>\n",
              "      <td>0</td>\n",
              "      <td>0</td>\n",
              "      <td>0</td>\n",
              "      <td>0</td>\n",
              "      <td>0</td>\n",
              "      <td>0</td>\n",
              "      <td>NO</td>\n",
              "      <td>0.0000</td>\n",
              "      <td>0.298507</td>\n",
              "      <td>0.00</td>\n",
              "      <td>0.000000</td>\n",
              "      <td>0.500000</td>\n",
              "      <td>0</td>\n",
              "      <td>0</td>\n",
              "      <td>1</td>\n",
              "      <td>0</td>\n",
              "      <td>0</td>\n",
              "      <td>0</td>\n",
              "      <td>0</td>\n",
              "      <td>0</td>\n",
              "      <td>1</td>\n",
              "      <td>0</td>\n",
              "      <td>0</td>\n",
              "      <td>0</td>\n",
              "      <td>1</td>\n",
              "      <td>0</td>\n",
              "      <td>0</td>\n",
              "      <td>0</td>\n",
              "      <td>...</td>\n",
              "      <td>0</td>\n",
              "      <td>0</td>\n",
              "      <td>0</td>\n",
              "      <td>0</td>\n",
              "      <td>0</td>\n",
              "      <td>0</td>\n",
              "      <td>0</td>\n",
              "      <td>0</td>\n",
              "      <td>1</td>\n",
              "      <td>0</td>\n",
              "      <td>0</td>\n",
              "      <td>0</td>\n",
              "      <td>0</td>\n",
              "      <td>1</td>\n",
              "      <td>0</td>\n",
              "      <td>0</td>\n",
              "      <td>0</td>\n",
              "      <td>0</td>\n",
              "      <td>0</td>\n",
              "      <td>0</td>\n",
              "      <td>0</td>\n",
              "      <td>0</td>\n",
              "      <td>0</td>\n",
              "      <td>0</td>\n",
              "      <td>0</td>\n",
              "      <td>1</td>\n",
              "      <td>0</td>\n",
              "      <td>0</td>\n",
              "      <td>0</td>\n",
              "      <td>0</td>\n",
              "      <td>0</td>\n",
              "      <td>0</td>\n",
              "      <td>0</td>\n",
              "      <td>0</td>\n",
              "      <td>0</td>\n",
              "      <td>1</td>\n",
              "      <td>0</td>\n",
              "      <td>0</td>\n",
              "      <td>1</td>\n",
              "      <td>0</td>\n",
              "    </tr>\n",
              "    <tr>\n",
              "      <th>1</th>\n",
              "      <td>0</td>\n",
              "      <td>0.111111</td>\n",
              "      <td>0.153846</td>\n",
              "      <td>0.442748</td>\n",
              "      <td>0.000000</td>\n",
              "      <td>0.2125</td>\n",
              "      <td>0.000000</td>\n",
              "      <td>0.0</td>\n",
              "      <td>0.000000</td>\n",
              "      <td>0.533333</td>\n",
              "      <td>0.0</td>\n",
              "      <td>0</td>\n",
              "      <td>0</td>\n",
              "      <td>0</td>\n",
              "      <td>0</td>\n",
              "      <td>0</td>\n",
              "      <td>1</td>\n",
              "      <td>1</td>\n",
              "      <td>&gt;30</td>\n",
              "      <td>0.0000</td>\n",
              "      <td>0.432836</td>\n",
              "      <td>0.25</td>\n",
              "      <td>0.166667</td>\n",
              "      <td>0.666667</td>\n",
              "      <td>0</td>\n",
              "      <td>0</td>\n",
              "      <td>1</td>\n",
              "      <td>0</td>\n",
              "      <td>0</td>\n",
              "      <td>1</td>\n",
              "      <td>0</td>\n",
              "      <td>0</td>\n",
              "      <td>0</td>\n",
              "      <td>1</td>\n",
              "      <td>0</td>\n",
              "      <td>0</td>\n",
              "      <td>0</td>\n",
              "      <td>0</td>\n",
              "      <td>0</td>\n",
              "      <td>0</td>\n",
              "      <td>...</td>\n",
              "      <td>0</td>\n",
              "      <td>0</td>\n",
              "      <td>0</td>\n",
              "      <td>0</td>\n",
              "      <td>0</td>\n",
              "      <td>0</td>\n",
              "      <td>0</td>\n",
              "      <td>0</td>\n",
              "      <td>0</td>\n",
              "      <td>0</td>\n",
              "      <td>0</td>\n",
              "      <td>1</td>\n",
              "      <td>0</td>\n",
              "      <td>0</td>\n",
              "      <td>0</td>\n",
              "      <td>0</td>\n",
              "      <td>0</td>\n",
              "      <td>0</td>\n",
              "      <td>0</td>\n",
              "      <td>1</td>\n",
              "      <td>0</td>\n",
              "      <td>0</td>\n",
              "      <td>1</td>\n",
              "      <td>0</td>\n",
              "      <td>0</td>\n",
              "      <td>0</td>\n",
              "      <td>0</td>\n",
              "      <td>0</td>\n",
              "      <td>0</td>\n",
              "      <td>0</td>\n",
              "      <td>0</td>\n",
              "      <td>0</td>\n",
              "      <td>0</td>\n",
              "      <td>0</td>\n",
              "      <td>0</td>\n",
              "      <td>0</td>\n",
              "      <td>0</td>\n",
              "      <td>1</td>\n",
              "      <td>0</td>\n",
              "      <td>1</td>\n",
              "    </tr>\n",
              "    <tr>\n",
              "      <th>2</th>\n",
              "      <td>0</td>\n",
              "      <td>0.222222</td>\n",
              "      <td>0.076923</td>\n",
              "      <td>0.076336</td>\n",
              "      <td>0.833333</td>\n",
              "      <td>0.1500</td>\n",
              "      <td>0.047619</td>\n",
              "      <td>0.0</td>\n",
              "      <td>0.047619</td>\n",
              "      <td>0.333333</td>\n",
              "      <td>0.0</td>\n",
              "      <td>0</td>\n",
              "      <td>1</td>\n",
              "      <td>0</td>\n",
              "      <td>0</td>\n",
              "      <td>0</td>\n",
              "      <td>0</td>\n",
              "      <td>1</td>\n",
              "      <td>NO</td>\n",
              "      <td>0.0375</td>\n",
              "      <td>0.111940</td>\n",
              "      <td>0.00</td>\n",
              "      <td>0.166667</td>\n",
              "      <td>0.500000</td>\n",
              "      <td>1</td>\n",
              "      <td>0</td>\n",
              "      <td>0</td>\n",
              "      <td>0</td>\n",
              "      <td>0</td>\n",
              "      <td>1</td>\n",
              "      <td>0</td>\n",
              "      <td>0</td>\n",
              "      <td>0</td>\n",
              "      <td>1</td>\n",
              "      <td>0</td>\n",
              "      <td>0</td>\n",
              "      <td>0</td>\n",
              "      <td>0</td>\n",
              "      <td>0</td>\n",
              "      <td>0</td>\n",
              "      <td>...</td>\n",
              "      <td>0</td>\n",
              "      <td>0</td>\n",
              "      <td>0</td>\n",
              "      <td>0</td>\n",
              "      <td>0</td>\n",
              "      <td>0</td>\n",
              "      <td>0</td>\n",
              "      <td>0</td>\n",
              "      <td>0</td>\n",
              "      <td>0</td>\n",
              "      <td>0</td>\n",
              "      <td>1</td>\n",
              "      <td>0</td>\n",
              "      <td>0</td>\n",
              "      <td>0</td>\n",
              "      <td>0</td>\n",
              "      <td>0</td>\n",
              "      <td>0</td>\n",
              "      <td>0</td>\n",
              "      <td>1</td>\n",
              "      <td>0</td>\n",
              "      <td>0</td>\n",
              "      <td>1</td>\n",
              "      <td>0</td>\n",
              "      <td>0</td>\n",
              "      <td>0</td>\n",
              "      <td>0</td>\n",
              "      <td>0</td>\n",
              "      <td>0</td>\n",
              "      <td>0</td>\n",
              "      <td>0</td>\n",
              "      <td>0</td>\n",
              "      <td>1</td>\n",
              "      <td>0</td>\n",
              "      <td>0</td>\n",
              "      <td>0</td>\n",
              "      <td>0</td>\n",
              "      <td>0</td>\n",
              "      <td>1</td>\n",
              "      <td>0</td>\n",
              "    </tr>\n",
              "    <tr>\n",
              "      <th>3</th>\n",
              "      <td>1</td>\n",
              "      <td>0.333333</td>\n",
              "      <td>0.076923</td>\n",
              "      <td>0.328244</td>\n",
              "      <td>0.166667</td>\n",
              "      <td>0.1875</td>\n",
              "      <td>0.000000</td>\n",
              "      <td>0.0</td>\n",
              "      <td>0.000000</td>\n",
              "      <td>0.400000</td>\n",
              "      <td>0.0</td>\n",
              "      <td>0</td>\n",
              "      <td>0</td>\n",
              "      <td>0</td>\n",
              "      <td>0</td>\n",
              "      <td>0</td>\n",
              "      <td>1</td>\n",
              "      <td>1</td>\n",
              "      <td>NO</td>\n",
              "      <td>0.0000</td>\n",
              "      <td>0.328358</td>\n",
              "      <td>0.25</td>\n",
              "      <td>0.166667</td>\n",
              "      <td>0.666667</td>\n",
              "      <td>0</td>\n",
              "      <td>0</td>\n",
              "      <td>1</td>\n",
              "      <td>0</td>\n",
              "      <td>0</td>\n",
              "      <td>1</td>\n",
              "      <td>0</td>\n",
              "      <td>0</td>\n",
              "      <td>0</td>\n",
              "      <td>1</td>\n",
              "      <td>0</td>\n",
              "      <td>0</td>\n",
              "      <td>0</td>\n",
              "      <td>0</td>\n",
              "      <td>0</td>\n",
              "      <td>0</td>\n",
              "      <td>...</td>\n",
              "      <td>0</td>\n",
              "      <td>0</td>\n",
              "      <td>0</td>\n",
              "      <td>0</td>\n",
              "      <td>0</td>\n",
              "      <td>0</td>\n",
              "      <td>0</td>\n",
              "      <td>0</td>\n",
              "      <td>0</td>\n",
              "      <td>0</td>\n",
              "      <td>0</td>\n",
              "      <td>1</td>\n",
              "      <td>0</td>\n",
              "      <td>0</td>\n",
              "      <td>0</td>\n",
              "      <td>0</td>\n",
              "      <td>0</td>\n",
              "      <td>0</td>\n",
              "      <td>0</td>\n",
              "      <td>1</td>\n",
              "      <td>0</td>\n",
              "      <td>0</td>\n",
              "      <td>1</td>\n",
              "      <td>0</td>\n",
              "      <td>0</td>\n",
              "      <td>0</td>\n",
              "      <td>0</td>\n",
              "      <td>0</td>\n",
              "      <td>0</td>\n",
              "      <td>1</td>\n",
              "      <td>0</td>\n",
              "      <td>0</td>\n",
              "      <td>0</td>\n",
              "      <td>0</td>\n",
              "      <td>0</td>\n",
              "      <td>0</td>\n",
              "      <td>0</td>\n",
              "      <td>0</td>\n",
              "      <td>0</td>\n",
              "      <td>1</td>\n",
              "    </tr>\n",
              "    <tr>\n",
              "      <th>4</th>\n",
              "      <td>1</td>\n",
              "      <td>0.444444</td>\n",
              "      <td>0.000000</td>\n",
              "      <td>0.381679</td>\n",
              "      <td>0.000000</td>\n",
              "      <td>0.0875</td>\n",
              "      <td>0.000000</td>\n",
              "      <td>0.0</td>\n",
              "      <td>0.000000</td>\n",
              "      <td>0.266667</td>\n",
              "      <td>0.0</td>\n",
              "      <td>0</td>\n",
              "      <td>1</td>\n",
              "      <td>0</td>\n",
              "      <td>0</td>\n",
              "      <td>0</td>\n",
              "      <td>1</td>\n",
              "      <td>1</td>\n",
              "      <td>NO</td>\n",
              "      <td>0.0000</td>\n",
              "      <td>0.373134</td>\n",
              "      <td>0.00</td>\n",
              "      <td>0.333333</td>\n",
              "      <td>0.500000</td>\n",
              "      <td>0</td>\n",
              "      <td>0</td>\n",
              "      <td>1</td>\n",
              "      <td>0</td>\n",
              "      <td>0</td>\n",
              "      <td>1</td>\n",
              "      <td>0</td>\n",
              "      <td>0</td>\n",
              "      <td>0</td>\n",
              "      <td>1</td>\n",
              "      <td>0</td>\n",
              "      <td>0</td>\n",
              "      <td>0</td>\n",
              "      <td>0</td>\n",
              "      <td>0</td>\n",
              "      <td>0</td>\n",
              "      <td>...</td>\n",
              "      <td>0</td>\n",
              "      <td>0</td>\n",
              "      <td>0</td>\n",
              "      <td>0</td>\n",
              "      <td>0</td>\n",
              "      <td>0</td>\n",
              "      <td>0</td>\n",
              "      <td>0</td>\n",
              "      <td>0</td>\n",
              "      <td>0</td>\n",
              "      <td>0</td>\n",
              "      <td>1</td>\n",
              "      <td>0</td>\n",
              "      <td>0</td>\n",
              "      <td>0</td>\n",
              "      <td>0</td>\n",
              "      <td>0</td>\n",
              "      <td>0</td>\n",
              "      <td>1</td>\n",
              "      <td>0</td>\n",
              "      <td>0</td>\n",
              "      <td>0</td>\n",
              "      <td>0</td>\n",
              "      <td>0</td>\n",
              "      <td>0</td>\n",
              "      <td>1</td>\n",
              "      <td>0</td>\n",
              "      <td>0</td>\n",
              "      <td>0</td>\n",
              "      <td>0</td>\n",
              "      <td>1</td>\n",
              "      <td>0</td>\n",
              "      <td>0</td>\n",
              "      <td>0</td>\n",
              "      <td>0</td>\n",
              "      <td>0</td>\n",
              "      <td>0</td>\n",
              "      <td>0</td>\n",
              "      <td>0</td>\n",
              "      <td>1</td>\n",
              "    </tr>\n",
              "    <tr>\n",
              "      <th>...</th>\n",
              "      <td>...</td>\n",
              "      <td>...</td>\n",
              "      <td>...</td>\n",
              "      <td>...</td>\n",
              "      <td>...</td>\n",
              "      <td>...</td>\n",
              "      <td>...</td>\n",
              "      <td>...</td>\n",
              "      <td>...</td>\n",
              "      <td>...</td>\n",
              "      <td>...</td>\n",
              "      <td>...</td>\n",
              "      <td>...</td>\n",
              "      <td>...</td>\n",
              "      <td>...</td>\n",
              "      <td>...</td>\n",
              "      <td>...</td>\n",
              "      <td>...</td>\n",
              "      <td>...</td>\n",
              "      <td>...</td>\n",
              "      <td>...</td>\n",
              "      <td>...</td>\n",
              "      <td>...</td>\n",
              "      <td>...</td>\n",
              "      <td>...</td>\n",
              "      <td>...</td>\n",
              "      <td>...</td>\n",
              "      <td>...</td>\n",
              "      <td>...</td>\n",
              "      <td>...</td>\n",
              "      <td>...</td>\n",
              "      <td>...</td>\n",
              "      <td>...</td>\n",
              "      <td>...</td>\n",
              "      <td>...</td>\n",
              "      <td>...</td>\n",
              "      <td>...</td>\n",
              "      <td>...</td>\n",
              "      <td>...</td>\n",
              "      <td>...</td>\n",
              "      <td>...</td>\n",
              "      <td>...</td>\n",
              "      <td>...</td>\n",
              "      <td>...</td>\n",
              "      <td>...</td>\n",
              "      <td>...</td>\n",
              "      <td>...</td>\n",
              "      <td>...</td>\n",
              "      <td>...</td>\n",
              "      <td>...</td>\n",
              "      <td>...</td>\n",
              "      <td>...</td>\n",
              "      <td>...</td>\n",
              "      <td>...</td>\n",
              "      <td>...</td>\n",
              "      <td>...</td>\n",
              "      <td>...</td>\n",
              "      <td>...</td>\n",
              "      <td>...</td>\n",
              "      <td>...</td>\n",
              "      <td>...</td>\n",
              "      <td>...</td>\n",
              "      <td>...</td>\n",
              "      <td>...</td>\n",
              "      <td>...</td>\n",
              "      <td>...</td>\n",
              "      <td>...</td>\n",
              "      <td>...</td>\n",
              "      <td>...</td>\n",
              "      <td>...</td>\n",
              "      <td>...</td>\n",
              "      <td>...</td>\n",
              "      <td>...</td>\n",
              "      <td>...</td>\n",
              "      <td>...</td>\n",
              "      <td>...</td>\n",
              "      <td>...</td>\n",
              "      <td>...</td>\n",
              "      <td>...</td>\n",
              "      <td>...</td>\n",
              "      <td>...</td>\n",
              "    </tr>\n",
              "    <tr>\n",
              "      <th>101761</th>\n",
              "      <td>1</td>\n",
              "      <td>0.777778</td>\n",
              "      <td>0.153846</td>\n",
              "      <td>0.381679</td>\n",
              "      <td>0.000000</td>\n",
              "      <td>0.1875</td>\n",
              "      <td>0.000000</td>\n",
              "      <td>0.0</td>\n",
              "      <td>0.000000</td>\n",
              "      <td>0.533333</td>\n",
              "      <td>1.0</td>\n",
              "      <td>1</td>\n",
              "      <td>0</td>\n",
              "      <td>0</td>\n",
              "      <td>0</td>\n",
              "      <td>0</td>\n",
              "      <td>1</td>\n",
              "      <td>1</td>\n",
              "      <td>&gt;30</td>\n",
              "      <td>0.0000</td>\n",
              "      <td>0.373134</td>\n",
              "      <td>0.25</td>\n",
              "      <td>0.333333</td>\n",
              "      <td>0.333333</td>\n",
              "      <td>1</td>\n",
              "      <td>0</td>\n",
              "      <td>0</td>\n",
              "      <td>0</td>\n",
              "      <td>0</td>\n",
              "      <td>1</td>\n",
              "      <td>0</td>\n",
              "      <td>0</td>\n",
              "      <td>0</td>\n",
              "      <td>0</td>\n",
              "      <td>1</td>\n",
              "      <td>0</td>\n",
              "      <td>0</td>\n",
              "      <td>0</td>\n",
              "      <td>0</td>\n",
              "      <td>0</td>\n",
              "      <td>...</td>\n",
              "      <td>0</td>\n",
              "      <td>0</td>\n",
              "      <td>0</td>\n",
              "      <td>0</td>\n",
              "      <td>0</td>\n",
              "      <td>0</td>\n",
              "      <td>0</td>\n",
              "      <td>0</td>\n",
              "      <td>0</td>\n",
              "      <td>0</td>\n",
              "      <td>0</td>\n",
              "      <td>1</td>\n",
              "      <td>0</td>\n",
              "      <td>1</td>\n",
              "      <td>0</td>\n",
              "      <td>0</td>\n",
              "      <td>0</td>\n",
              "      <td>0</td>\n",
              "      <td>0</td>\n",
              "      <td>0</td>\n",
              "      <td>0</td>\n",
              "      <td>0</td>\n",
              "      <td>0</td>\n",
              "      <td>0</td>\n",
              "      <td>0</td>\n",
              "      <td>1</td>\n",
              "      <td>0</td>\n",
              "      <td>0</td>\n",
              "      <td>0</td>\n",
              "      <td>1</td>\n",
              "      <td>0</td>\n",
              "      <td>0</td>\n",
              "      <td>0</td>\n",
              "      <td>0</td>\n",
              "      <td>0</td>\n",
              "      <td>0</td>\n",
              "      <td>0</td>\n",
              "      <td>0</td>\n",
              "      <td>0</td>\n",
              "      <td>1</td>\n",
              "    </tr>\n",
              "    <tr>\n",
              "      <th>101762</th>\n",
              "      <td>0</td>\n",
              "      <td>0.888889</td>\n",
              "      <td>0.307692</td>\n",
              "      <td>0.244275</td>\n",
              "      <td>0.500000</td>\n",
              "      <td>0.2125</td>\n",
              "      <td>0.000000</td>\n",
              "      <td>0.0</td>\n",
              "      <td>0.047619</td>\n",
              "      <td>0.533333</td>\n",
              "      <td>0.0</td>\n",
              "      <td>0</td>\n",
              "      <td>0</td>\n",
              "      <td>0</td>\n",
              "      <td>0</td>\n",
              "      <td>0</td>\n",
              "      <td>1</td>\n",
              "      <td>1</td>\n",
              "      <td>NO</td>\n",
              "      <td>0.0125</td>\n",
              "      <td>0.261194</td>\n",
              "      <td>0.00</td>\n",
              "      <td>0.166667</td>\n",
              "      <td>0.500000</td>\n",
              "      <td>1</td>\n",
              "      <td>0</td>\n",
              "      <td>0</td>\n",
              "      <td>0</td>\n",
              "      <td>0</td>\n",
              "      <td>1</td>\n",
              "      <td>0</td>\n",
              "      <td>0</td>\n",
              "      <td>0</td>\n",
              "      <td>0</td>\n",
              "      <td>1</td>\n",
              "      <td>0</td>\n",
              "      <td>0</td>\n",
              "      <td>0</td>\n",
              "      <td>0</td>\n",
              "      <td>0</td>\n",
              "      <td>...</td>\n",
              "      <td>0</td>\n",
              "      <td>0</td>\n",
              "      <td>0</td>\n",
              "      <td>0</td>\n",
              "      <td>0</td>\n",
              "      <td>0</td>\n",
              "      <td>0</td>\n",
              "      <td>0</td>\n",
              "      <td>0</td>\n",
              "      <td>0</td>\n",
              "      <td>0</td>\n",
              "      <td>1</td>\n",
              "      <td>0</td>\n",
              "      <td>0</td>\n",
              "      <td>1</td>\n",
              "      <td>0</td>\n",
              "      <td>0</td>\n",
              "      <td>0</td>\n",
              "      <td>0</td>\n",
              "      <td>0</td>\n",
              "      <td>0</td>\n",
              "      <td>0</td>\n",
              "      <td>0</td>\n",
              "      <td>0</td>\n",
              "      <td>0</td>\n",
              "      <td>0</td>\n",
              "      <td>0</td>\n",
              "      <td>1</td>\n",
              "      <td>0</td>\n",
              "      <td>0</td>\n",
              "      <td>0</td>\n",
              "      <td>1</td>\n",
              "      <td>0</td>\n",
              "      <td>0</td>\n",
              "      <td>0</td>\n",
              "      <td>0</td>\n",
              "      <td>0</td>\n",
              "      <td>0</td>\n",
              "      <td>1</td>\n",
              "      <td>0</td>\n",
              "    </tr>\n",
              "    <tr>\n",
              "      <th>101763</th>\n",
              "      <td>1</td>\n",
              "      <td>0.777778</td>\n",
              "      <td>0.000000</td>\n",
              "      <td>0.396947</td>\n",
              "      <td>0.000000</td>\n",
              "      <td>0.1000</td>\n",
              "      <td>0.023810</td>\n",
              "      <td>0.0</td>\n",
              "      <td>0.000000</td>\n",
              "      <td>0.800000</td>\n",
              "      <td>0.0</td>\n",
              "      <td>1</td>\n",
              "      <td>0</td>\n",
              "      <td>0</td>\n",
              "      <td>0</td>\n",
              "      <td>0</td>\n",
              "      <td>1</td>\n",
              "      <td>1</td>\n",
              "      <td>NO</td>\n",
              "      <td>0.0125</td>\n",
              "      <td>0.388060</td>\n",
              "      <td>0.25</td>\n",
              "      <td>0.333333</td>\n",
              "      <td>0.333333</td>\n",
              "      <td>0</td>\n",
              "      <td>0</td>\n",
              "      <td>1</td>\n",
              "      <td>0</td>\n",
              "      <td>0</td>\n",
              "      <td>1</td>\n",
              "      <td>0</td>\n",
              "      <td>0</td>\n",
              "      <td>0</td>\n",
              "      <td>1</td>\n",
              "      <td>0</td>\n",
              "      <td>0</td>\n",
              "      <td>0</td>\n",
              "      <td>0</td>\n",
              "      <td>0</td>\n",
              "      <td>0</td>\n",
              "      <td>...</td>\n",
              "      <td>0</td>\n",
              "      <td>0</td>\n",
              "      <td>0</td>\n",
              "      <td>0</td>\n",
              "      <td>0</td>\n",
              "      <td>0</td>\n",
              "      <td>0</td>\n",
              "      <td>0</td>\n",
              "      <td>0</td>\n",
              "      <td>0</td>\n",
              "      <td>0</td>\n",
              "      <td>1</td>\n",
              "      <td>0</td>\n",
              "      <td>0</td>\n",
              "      <td>0</td>\n",
              "      <td>0</td>\n",
              "      <td>0</td>\n",
              "      <td>0</td>\n",
              "      <td>0</td>\n",
              "      <td>1</td>\n",
              "      <td>0</td>\n",
              "      <td>0</td>\n",
              "      <td>0</td>\n",
              "      <td>0</td>\n",
              "      <td>1</td>\n",
              "      <td>0</td>\n",
              "      <td>0</td>\n",
              "      <td>0</td>\n",
              "      <td>0</td>\n",
              "      <td>0</td>\n",
              "      <td>0</td>\n",
              "      <td>0</td>\n",
              "      <td>0</td>\n",
              "      <td>0</td>\n",
              "      <td>1</td>\n",
              "      <td>0</td>\n",
              "      <td>0</td>\n",
              "      <td>0</td>\n",
              "      <td>0</td>\n",
              "      <td>1</td>\n",
              "    </tr>\n",
              "    <tr>\n",
              "      <th>101764</th>\n",
              "      <td>0</td>\n",
              "      <td>0.888889</td>\n",
              "      <td>0.692308</td>\n",
              "      <td>0.335878</td>\n",
              "      <td>0.333333</td>\n",
              "      <td>0.2500</td>\n",
              "      <td>0.000000</td>\n",
              "      <td>0.0</td>\n",
              "      <td>0.047619</td>\n",
              "      <td>0.533333</td>\n",
              "      <td>0.0</td>\n",
              "      <td>0</td>\n",
              "      <td>1</td>\n",
              "      <td>0</td>\n",
              "      <td>1</td>\n",
              "      <td>0</td>\n",
              "      <td>1</td>\n",
              "      <td>1</td>\n",
              "      <td>NO</td>\n",
              "      <td>0.0125</td>\n",
              "      <td>0.343284</td>\n",
              "      <td>0.25</td>\n",
              "      <td>0.500000</td>\n",
              "      <td>0.666667</td>\n",
              "      <td>0</td>\n",
              "      <td>0</td>\n",
              "      <td>1</td>\n",
              "      <td>0</td>\n",
              "      <td>0</td>\n",
              "      <td>1</td>\n",
              "      <td>0</td>\n",
              "      <td>0</td>\n",
              "      <td>0</td>\n",
              "      <td>0</td>\n",
              "      <td>1</td>\n",
              "      <td>0</td>\n",
              "      <td>0</td>\n",
              "      <td>0</td>\n",
              "      <td>0</td>\n",
              "      <td>0</td>\n",
              "      <td>...</td>\n",
              "      <td>0</td>\n",
              "      <td>0</td>\n",
              "      <td>0</td>\n",
              "      <td>0</td>\n",
              "      <td>0</td>\n",
              "      <td>0</td>\n",
              "      <td>0</td>\n",
              "      <td>0</td>\n",
              "      <td>0</td>\n",
              "      <td>0</td>\n",
              "      <td>1</td>\n",
              "      <td>0</td>\n",
              "      <td>0</td>\n",
              "      <td>0</td>\n",
              "      <td>0</td>\n",
              "      <td>0</td>\n",
              "      <td>1</td>\n",
              "      <td>0</td>\n",
              "      <td>0</td>\n",
              "      <td>0</td>\n",
              "      <td>0</td>\n",
              "      <td>0</td>\n",
              "      <td>0</td>\n",
              "      <td>0</td>\n",
              "      <td>0</td>\n",
              "      <td>1</td>\n",
              "      <td>0</td>\n",
              "      <td>0</td>\n",
              "      <td>0</td>\n",
              "      <td>0</td>\n",
              "      <td>0</td>\n",
              "      <td>0</td>\n",
              "      <td>0</td>\n",
              "      <td>0</td>\n",
              "      <td>0</td>\n",
              "      <td>1</td>\n",
              "      <td>0</td>\n",
              "      <td>0</td>\n",
              "      <td>0</td>\n",
              "      <td>1</td>\n",
              "    </tr>\n",
              "    <tr>\n",
              "      <th>101765</th>\n",
              "      <td>1</td>\n",
              "      <td>0.777778</td>\n",
              "      <td>0.384615</td>\n",
              "      <td>0.091603</td>\n",
              "      <td>0.500000</td>\n",
              "      <td>0.0250</td>\n",
              "      <td>0.000000</td>\n",
              "      <td>0.0</td>\n",
              "      <td>0.000000</td>\n",
              "      <td>0.533333</td>\n",
              "      <td>0.0</td>\n",
              "      <td>0</td>\n",
              "      <td>0</td>\n",
              "      <td>0</td>\n",
              "      <td>0</td>\n",
              "      <td>0</td>\n",
              "      <td>0</td>\n",
              "      <td>0</td>\n",
              "      <td>NO</td>\n",
              "      <td>0.0000</td>\n",
              "      <td>0.111940</td>\n",
              "      <td>0.00</td>\n",
              "      <td>0.000000</td>\n",
              "      <td>0.500000</td>\n",
              "      <td>0</td>\n",
              "      <td>0</td>\n",
              "      <td>1</td>\n",
              "      <td>0</td>\n",
              "      <td>0</td>\n",
              "      <td>1</td>\n",
              "      <td>0</td>\n",
              "      <td>0</td>\n",
              "      <td>0</td>\n",
              "      <td>1</td>\n",
              "      <td>0</td>\n",
              "      <td>0</td>\n",
              "      <td>0</td>\n",
              "      <td>0</td>\n",
              "      <td>0</td>\n",
              "      <td>0</td>\n",
              "      <td>...</td>\n",
              "      <td>0</td>\n",
              "      <td>0</td>\n",
              "      <td>0</td>\n",
              "      <td>0</td>\n",
              "      <td>0</td>\n",
              "      <td>0</td>\n",
              "      <td>0</td>\n",
              "      <td>0</td>\n",
              "      <td>0</td>\n",
              "      <td>0</td>\n",
              "      <td>0</td>\n",
              "      <td>1</td>\n",
              "      <td>0</td>\n",
              "      <td>0</td>\n",
              "      <td>1</td>\n",
              "      <td>0</td>\n",
              "      <td>0</td>\n",
              "      <td>0</td>\n",
              "      <td>0</td>\n",
              "      <td>0</td>\n",
              "      <td>0</td>\n",
              "      <td>0</td>\n",
              "      <td>0</td>\n",
              "      <td>1</td>\n",
              "      <td>0</td>\n",
              "      <td>0</td>\n",
              "      <td>0</td>\n",
              "      <td>0</td>\n",
              "      <td>0</td>\n",
              "      <td>0</td>\n",
              "      <td>0</td>\n",
              "      <td>1</td>\n",
              "      <td>0</td>\n",
              "      <td>0</td>\n",
              "      <td>0</td>\n",
              "      <td>0</td>\n",
              "      <td>0</td>\n",
              "      <td>0</td>\n",
              "      <td>1</td>\n",
              "      <td>0</td>\n",
              "    </tr>\n",
              "  </tbody>\n",
              "</table>\n",
              "<p>99343 rows × 86 columns</p>\n",
              "</div>"
            ],
            "text/plain": [
              "        gender       age  ...  change_0  change_Ch\n",
              "0            0  0.000000  ...         1          0\n",
              "1            0  0.111111  ...         0          1\n",
              "2            0  0.222222  ...         1          0\n",
              "3            1  0.333333  ...         0          1\n",
              "4            1  0.444444  ...         0          1\n",
              "...        ...       ...  ...       ...        ...\n",
              "101761       1  0.777778  ...         0          1\n",
              "101762       0  0.888889  ...         1          0\n",
              "101763       1  0.777778  ...         0          1\n",
              "101764       0  0.888889  ...         0          1\n",
              "101765       1  0.777778  ...         1          0\n",
              "\n",
              "[99343 rows x 86 columns]"
            ]
          },
          "metadata": {},
          "execution_count": 52
        }
      ]
    },
    {
      "cell_type": "markdown",
      "metadata": {
        "id": "bUXc-5cnwRIH"
      },
      "source": [
        "## Formatear columna de readmitted"
      ]
    },
    {
      "cell_type": "code",
      "metadata": {
        "id": "q9YGgFMikByT"
      },
      "source": [
        "df['readmitted'] = df['readmitted'].replace('>30', 0)\n",
        "df['readmitted'] = df['readmitted'].replace('<30', 1)\n",
        "df['readmitted'] = df['readmitted'].replace('NO', 0)"
      ],
      "execution_count": null,
      "outputs": []
    },
    {
      "cell_type": "markdown",
      "metadata": {
        "id": "CHquLdMS_gFd"
      },
      "source": [
        "# Guardar datos CSV"
      ]
    },
    {
      "cell_type": "code",
      "metadata": {
        "id": "6c3VnIz9_e7o"
      },
      "source": [
        "df.to_csv('/content/gdrive/MyDrive/datosTratados_last.csv')"
      ],
      "execution_count": null,
      "outputs": []
    }
  ]
}